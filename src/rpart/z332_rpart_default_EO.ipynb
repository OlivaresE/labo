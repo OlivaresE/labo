{
 "cells": [
  {
   "cell_type": "code",
   "execution_count": 14,
   "id": "0b48acf0-33e8-4e76-854f-329a0431ecd0",
   "metadata": {},
   "outputs": [
    {
     "data": {
      "text/html": [
       "<table>\n",
       "<thead><tr><th></th><th scope=col>used</th><th scope=col>(Mb)</th><th scope=col>gc trigger</th><th scope=col>(Mb)</th><th scope=col>max used</th><th scope=col>(Mb)</th></tr></thead>\n",
       "<tbody>\n",
       "\t<tr><th scope=row>Ncells</th><td> 565962  </td><td>30.3     </td><td> 1293510 </td><td> 69.1    </td><td>  1125680</td><td> 60.2    </td></tr>\n",
       "\t<tr><th scope=row>Vcells</th><td>1062432  </td><td> 8.2     </td><td>70010688 </td><td>534.2    </td><td>109391698</td><td>834.6    </td></tr>\n",
       "</tbody>\n",
       "</table>\n"
      ],
      "text/latex": [
       "\\begin{tabular}{r|llllll}\n",
       "  & used & (Mb) & gc trigger & (Mb) & max used & (Mb)\\\\\n",
       "\\hline\n",
       "\tNcells &  565962   & 30.3      &  1293510  &  69.1     &   1125680 &  60.2    \\\\\n",
       "\tVcells & 1062432   &  8.2      & 70010688  & 534.2     & 109391698 & 834.6    \\\\\n",
       "\\end{tabular}\n"
      ],
      "text/markdown": [
       "\n",
       "| <!--/--> | used | (Mb) | gc trigger | (Mb) | max used | (Mb) |\n",
       "|---|---|---|---|---|---|---|\n",
       "| Ncells |  565962   | 30.3      |  1293510  |  69.1     |   1125680 |  60.2     |\n",
       "| Vcells | 1062432   |  8.2      | 70010688  | 534.2     | 109391698 | 834.6     |\n",
       "\n"
      ],
      "text/plain": [
       "       used    (Mb) gc trigger (Mb)  max used  (Mb) \n",
       "Ncells  565962 30.3  1293510    69.1   1125680  60.2\n",
       "Vcells 1062432  8.2 70010688   534.2 109391698 834.6"
      ]
     },
     "metadata": {},
     "output_type": "display_data"
    }
   ],
   "source": [
    "#Optimizacion Bayesiana de hiperparametros de  rpart\n",
    "\n",
    "#limpio la memoria\n",
    "rm( list=ls() )  #remove all objects\n",
    "gc()             #garbage collection\n",
    "\n",
    "require(\"data.table\")\n",
    "require(\"rlist\")\n",
    "\n",
    "require(\"rpart\")\n",
    "require(\"parallel\")\n",
    "\n",
    "ksemilla_azar  <- 477293   #cambiar por la primer semilla"
   ]
  },
  {
   "cell_type": "code",
   "execution_count": 15,
   "id": "20f0f0a5-40a2-4a00-bc59-dba7209d1733",
   "metadata": {},
   "outputs": [],
   "source": [
    "#------------------------------------------------------------------------------\n",
    "#graba a un archivo los componentes de lista\n",
    "#para el primer registro, escribe antes los titulos\n",
    "\n",
    "loguear  <- function( reg, arch=NA, folder=\"./work/\", ext=\".txt\", verbose=TRUE )\n",
    "{\n",
    "  archivo  <- arch\n",
    "  if( is.na(arch) )  archivo  <- paste0( folder, substitute( reg), ext )\n",
    "\n",
    "  if( !file.exists( archivo ) )  #Escribo los titulos\n",
    "  {\n",
    "    linea  <- paste0( \"fecha\\t\", \n",
    "                      paste( list.names(reg), collapse=\"\\t\" ), \"\\n\" )\n",
    "\n",
    "    cat( linea, file=archivo )\n",
    "  }\n",
    "\n",
    "  linea  <- paste0( format(Sys.time(), \"%Y%m%d %H%M%S\"),  \"\\t\",     #la fecha y hora\n",
    "                    gsub( \", \", \"\\t\", toString( reg ) ),  \"\\n\" )\n",
    "\n",
    "  cat( linea, file=archivo, append=TRUE )  #grabo al archivo\n",
    "\n",
    "  if( verbose )  cat( linea )   #imprimo por pantalla\n",
    "}"
   ]
  },
  {
   "cell_type": "code",
   "execution_count": 16,
   "id": "c0be394f-742a-467e-b2e1-98f8a6e2acae",
   "metadata": {},
   "outputs": [],
   "source": [
    "#------------------------------------------------------------------------------\n",
    "#particionar agrega una columna llamada fold a un dataset que consiste en una particion estratificada segun agrupa\n",
    "# particionar( data=dataset, division=c(70,30), agrupa=clase_ternaria, seed=semilla)   crea una particion 70, 30 \n",
    "# particionar( data=dataset, division=c(1,1,1,1,1), agrupa=clase_ternaria, seed=semilla)   divide el dataset en 5 particiones\n",
    "\n",
    "particionar  <- function( data, division, agrupa=\"\", campo=\"fold\", start=1, seed=NA )\n",
    "{\n",
    "  if( !is.na( seed)  )   set.seed( seed )\n",
    "\n",
    "  bloque  <- unlist( mapply(  function(x,y) { rep( y, x ) }, division, seq( from=start, length.out=length(division) )  ) )\n",
    "\n",
    "  data[ , (campo) :=  sample( rep( bloque, ceiling(.N/length(bloque))) )[1:.N],\n",
    "           by= agrupa ]\n",
    "}"
   ]
  },
  {
   "cell_type": "code",
   "execution_count": 17,
   "id": "9c5bde3a-a1b7-4a37-a256-dd4734651c0b",
   "metadata": {},
   "outputs": [],
   "source": [
    "#------------------------------------------------------------------------------\n",
    "#fold_test  tiene el numero de fold que voy a usar para testear, entreno en el resto de los folds\n",
    "#param tiene los hiperparametros del arbol\n",
    "\n",
    "ArbolSimple  <- function( fold_test, data, param )\n",
    "{\n",
    "  #genero el modelo\n",
    "  modelo  <- rpart(\"clase_ternaria ~ .\", \n",
    "                   data= data[ fold != fold_test, ],  #entreno en todo MENOS el fold_test que uso para testing\n",
    "                   xval= 0,\n",
    "                   control= param )\n",
    "\n",
    "  #aplico el modelo a los datos de testing\n",
    "  prediccion  <- predict( modelo, \n",
    "                          data[ fold==fold_test, ],  #aplico el modelo sobre los datos de testing\n",
    "                          type= \"prob\")   #quiero que me devuelva probabilidades\n",
    "\n",
    "  prob_baja2  <- prediccion[, \"BAJA+2\"]  #esta es la probabilidad de baja\n",
    "\n",
    "  #calculo la ganancia\n",
    "  ganancia_testing  <- data[ fold==fold_test ][ prob_baja2 > 1/60,  \n",
    "                                                sum( ifelse( clase_ternaria==\"BAJA+2\", 59000, -1000 ) )] \n",
    "\n",
    "  return( ganancia_testing )  #esta es la ganancia sobre el fold de testing, NO esta normalizada\n",
    "}"
   ]
  },
  {
   "cell_type": "code",
   "execution_count": 18,
   "id": "52b75347-0b58-46e6-87db-8ae82dd2b521",
   "metadata": {},
   "outputs": [],
   "source": [
    "#------------------------------------------------------------------------------\n",
    "\n",
    "ArbolesCrossValidation  <- function( data, param, qfolds, pagrupa, semilla )\n",
    "{\n",
    "  divi  <- rep( 1, qfolds )  # generalmente  c(1, 1, 1, 1, 1 )  cinco unos\n",
    "\n",
    "  particionar( data, divi, seed=semilla, agrupa=pagrupa )  #particiono en dataset en folds\n",
    "\n",
    "  ganancias  <- mcmapply( ArbolSimple, \n",
    "                          seq(qfolds), # 1 2 3 4 5\n",
    "                          MoreArgs= list( data, param), \n",
    "                          SIMPLIFY= FALSE,\n",
    "                          mc.cores= 1 )   #se puede subir a qfolds si posee Linux o Mac OS\n",
    "\n",
    "  data[ , fold := NULL ]\n",
    "\n",
    "  #devuelvo la primer ganancia y el promedio\n",
    "  ganancia_promedio  <- mean( unlist( ganancias ) )   #promedio las ganancias\n",
    "  ganancia_promedio_normalizada  <- ganancia_promedio * qfolds  #aqui normalizo la ganancia\n",
    "  \n",
    "  return( ganancia_promedio_normalizada )\n",
    "}"
   ]
  },
  {
   "cell_type": "code",
   "execution_count": 19,
   "id": "96d7810e-cd5f-485e-bb24-eb64d14131d7",
   "metadata": {},
   "outputs": [],
   "source": [
    "#------------------------------------------------------------------------------\n",
    "#esta funcion solo puede recibir los parametros que se estan optimizando\n",
    "#el resto de los parametros, lamentablemente se pasan como variables globales\n",
    "\n",
    "EstimarGanancia  <- function( x )\n",
    "{\n",
    "   GLOBAL_iteracion  <<-  GLOBAL_iteracion + 1\n",
    "\n",
    "   xval_folds  <- 5\n",
    "   ganancia  <- ArbolesCrossValidation( dataset,\n",
    "                                        param= x, #los hiperparametros del arbol\n",
    "                                        qfolds= xval_folds,  #la cantidad de folds\n",
    "                                        pagrupa= \"clase_ternaria\",\n",
    "                                        semilla= ksemilla_azar )\n",
    "\n",
    "   #logueo \n",
    "   xx  <- x\n",
    "   xx$xval_folds  <-  xval_folds\n",
    "   xx$ganancia  <- ganancia\n",
    "   xx$iteracion <- GLOBAL_iteracion\n",
    "   loguear( xx,  arch= archivo_log )\n",
    "\n",
    "   return( ganancia )\n",
    "}"
   ]
  },
  {
   "cell_type": "code",
   "execution_count": 20,
   "id": "c1d8ec20-31bf-42ae-93c0-680a8c82f8d9",
   "metadata": {},
   "outputs": [
    {
     "name": "stdout",
     "output_type": "stream",
     "text": [
      "20220425 221936\t0.01\t20\t6\t30\t5\t0\t1\n"
     ]
    },
    {
     "data": {
      "text/html": [
       "0"
      ],
      "text/latex": [
       "0"
      ],
      "text/markdown": [
       "0"
      ],
      "text/plain": [
       "[1] 0"
      ]
     },
     "metadata": {},
     "output_type": "display_data"
    }
   ],
   "source": [
    "#------------------------------------------------------------------------------\n",
    "#Aqui empieza el programa\n",
    "\n",
    "setwd(\"C:\\\\Users\\\\oliva\\\\OneDrive\\\\Desktop\\\\DS\\\\Austral\\\\08 - Labo1\") #Aqui se debe poner la ruta de la PC local\n",
    "\n",
    "#cargo el dataset\n",
    "dataset  <- fread(\"./labo/datasets/paquete_premium_202011.csv\")   #donde entreno\n",
    "\n",
    "\n",
    "#creo la carpeta donde va el experimento\n",
    "# HT  representa  Hiperparameter Tuning\n",
    "dir.create( \"./labo/exp/\",  showWarnings = FALSE ) \n",
    "dir.create( \"./labo/exp/HT3220/\", showWarnings = FALSE )\n",
    "setwd(\"C:\\\\Users\\\\oliva\\\\OneDrive\\\\Desktop\\\\DS\\\\Austral\\\\08 - Labo1\\\\labo\\\\exp\\\\HT3220/\")   #Establezco el Working Directory DEL EXPERIMENTO\n",
    "\n",
    "\n",
    "archivo_log  <- \"HT332.txt\"\n",
    "\n",
    "\n",
    "#leo si ya existe el log, para retomar en caso que se se corte el programa\n",
    "GLOBAL_iteracion  <- 0\n",
    "\n",
    "if( file.exists(archivo_log) )\n",
    "{\n",
    " tabla_log  <- fread( archivo_log )\n",
    " GLOBAL_iteracion  <- nrow( tabla_log )\n",
    "}\n",
    "\n",
    "\n",
    "\n",
    "#La llamada con los parametros por default\n",
    "\n",
    "x  <- list(  cp=          0.01,\n",
    "             minsplit=   20,\n",
    "             minbucket=   6,\n",
    "             maxdepth=   30\n",
    "           )\n",
    "\n",
    "EstimarGanancia( x )\n"
   ]
  },
  {
   "cell_type": "code",
   "execution_count": null,
   "id": "e4b1b7ae-58b2-4023-8953-bbf1d42022c4",
   "metadata": {},
   "outputs": [],
   "source": []
  }
 ],
 "metadata": {
  "kernelspec": {
   "display_name": "R",
   "language": "R",
   "name": "ir"
  },
  "language_info": {
   "codemirror_mode": "r",
   "file_extension": ".r",
   "mimetype": "text/x-r-source",
   "name": "R",
   "pygments_lexer": "r",
   "version": "3.6.1"
  }
 },
 "nbformat": 4,
 "nbformat_minor": 5
}
