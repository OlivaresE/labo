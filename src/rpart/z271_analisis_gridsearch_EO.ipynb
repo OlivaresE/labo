{
 "cells": [
  {
   "cell_type": "code",
   "execution_count": null,
   "id": "22b94295-2b56-4c35-9a89-7c59ad112fee",
   "metadata": {},
   "outputs": [],
   "source": [
    "rm( list=ls() )  #Borro todos los objetos\n",
    "gc()   #Garbage Collection\n",
    "\n",
    "#cargo las librerias que necesito\n",
    "require(\"data.table\")\n",
    "require(\"rpart\")\n",
    "require(\"rpart.plot\")\n",
    "\n",
    "#Aqui se debe poner la carpeta de SU computadora local\n",
    "setwd(\"C:\\\\Users\\\\oliva\\\\OneDrive\\\\Desktop\\\\DS\\\\Austral\\\\08 - Labo1\") #Establezco el Working Directory\n",
    "\n",
    "#cargo la salida del Grid Seach, verifique que corresponda a la carpeta donde dejó el resultado\n",
    "dtrain  <- fread(\"./labo/exp/HT2020/gridsearch.txt\")\n",
    "\n",
    "#genero el modelo,  aqui se construye el arbol\n",
    "#este sera un arbol de REGRESION ya que la variable objetivo, ganancia_promedio,  es una variable continua\n",
    "modelo  <- rpart(\"ganancia_promedio ~ .\",  #quiero predecir clase_ternaria a partir de el resto de las variables\n",
    "                 data = dtrain,\n",
    "                 xval=0,\n",
    "                 cp=         0,\n",
    "                 minsplit=  50,     #minima cantidad de registros para que se haga el split\n",
    "                 minbucket= 10,     #tamaño minimo de una hoja\n",
    "                 maxdepth=   4 )    #profundidad maxima del arbol\n",
    "\n",
    "\n",
    "#grafico el arbol\n",
    "\n",
    "#primero creo la carpeta a donde voy a guardar el dibujo del arbol\n",
    "dir.create( \"./labo/exp/\",  showWarnings = FALSE ) \n",
    "dir.create( \"./labo/exp/ST2030/\", showWarnings = FALSE )\n",
    "archivo_salida  <- \"./labo/exp/ST2030/arbol_analisis_gridsearch.pdf\"\n",
    "\n",
    "#finalmente, genero el grafico guardandolo en un archivo pdf\n",
    "pdf( archivo_salida, paper=\"a4r\" )\n",
    "prp(modelo, extra=101, digits=5, branch=1, type=4, varlen=0, faclen=0)\n",
    "dev.off()"
   ]
  }
 ],
 "metadata": {
  "kernelspec": {
   "display_name": "R",
   "language": "R",
   "name": "ir"
  },
  "language_info": {
   "codemirror_mode": "r",
   "file_extension": ".r",
   "mimetype": "text/x-r-source",
   "name": "R",
   "pygments_lexer": "r",
   "version": "3.6.1"
  }
 },
 "nbformat": 4,
 "nbformat_minor": 5
}
