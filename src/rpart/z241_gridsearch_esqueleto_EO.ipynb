{
 "cells": [
  {
   "cell_type": "code",
   "execution_count": 2,
   "id": "80d0cdbd-91e2-4ce3-8484-130990191cbe",
   "metadata": {},
   "outputs": [
    {
     "data": {
      "text/html": [
       "45.53"
      ],
      "text/latex": [
       "45.53"
      ],
      "text/markdown": [
       "45.53"
      ],
      "text/plain": [
       "[1] 45.53"
      ]
     },
     "metadata": {},
     "output_type": "display_data"
    },
    {
     "data": {
      "text/html": [
       "8066"
      ],
      "text/latex": [
       "8066"
      ],
      "text/markdown": [
       "8066"
      ],
      "text/plain": [
       "[1] 8066"
      ]
     },
     "metadata": {},
     "output_type": "display_data"
    },
    {
     "data": {
      "text/html": [
       "560000"
      ],
      "text/latex": [
       "560000"
      ],
      "text/markdown": [
       "560000"
      ],
      "text/plain": [
       "[1] 560000"
      ]
     },
     "metadata": {},
     "output_type": "display_data"
    },
    {
     "data": {
      "text/html": [
       "560000"
      ],
      "text/latex": [
       "560000"
      ],
      "text/markdown": [
       "560000"
      ],
      "text/plain": [
       "[1] 560000"
      ]
     },
     "metadata": {},
     "output_type": "display_data"
    }
   ],
   "source": [
    "options(warn=-1)\n",
    "memory.size() ### Checking your memory size\n",
    "memory.limit() ## Checking the set limit\n",
    "memory.limit(size=560000) ### expanding your memory \n",
    "memory.limit()"
   ]
  },
  {
   "cell_type": "code",
   "execution_count": 3,
   "id": "5f211d1f-3114-47cc-b187-0e0bf601674c",
   "metadata": {},
   "outputs": [
    {
     "data": {
      "text/html": [
       "<table>\n",
       "<thead><tr><th></th><th scope=col>used</th><th scope=col>(Mb)</th><th scope=col>gc trigger</th><th scope=col>(Mb)</th><th scope=col>max used</th><th scope=col>(Mb)</th></tr></thead>\n",
       "<tbody>\n",
       "\t<tr><th scope=row>Ncells</th><td>480071 </td><td>25.7   </td><td>1060675</td><td>56.7   </td><td> 621911</td><td>33.3   </td></tr>\n",
       "\t<tr><th scope=row>Vcells</th><td>877469 </td><td> 6.7   </td><td>8388608</td><td>64.0   </td><td>1601322</td><td>12.3   </td></tr>\n",
       "</tbody>\n",
       "</table>\n"
      ],
      "text/latex": [
       "\\begin{tabular}{r|llllll}\n",
       "  & used & (Mb) & gc trigger & (Mb) & max used & (Mb)\\\\\n",
       "\\hline\n",
       "\tNcells & 480071  & 25.7    & 1060675 & 56.7    &  621911 & 33.3   \\\\\n",
       "\tVcells & 877469  &  6.7    & 8388608 & 64.0    & 1601322 & 12.3   \\\\\n",
       "\\end{tabular}\n"
      ],
      "text/markdown": [
       "\n",
       "| <!--/--> | used | (Mb) | gc trigger | (Mb) | max used | (Mb) |\n",
       "|---|---|---|---|---|---|---|\n",
       "| Ncells | 480071  | 25.7    | 1060675 | 56.7    |  621911 | 33.3    |\n",
       "| Vcells | 877469  |  6.7    | 8388608 | 64.0    | 1601322 | 12.3    |\n",
       "\n"
      ],
      "text/plain": [
       "       used   (Mb) gc trigger (Mb) max used (Mb)\n",
       "Ncells 480071 25.7 1060675    56.7  621911  33.3\n",
       "Vcells 877469  6.7 8388608    64.0 1601322  12.3"
      ]
     },
     "metadata": {},
     "output_type": "display_data"
    },
    {
     "name": "stderr",
     "output_type": "stream",
     "text": [
      "Loading required package: data.table\n",
      "Loading required package: rpart\n",
      "Loading required package: parallel\n"
     ]
    }
   ],
   "source": [
    "#esqueleto de grid search\n",
    "#se espera que los alumnos completen lo que falta para recorrer TODOS cuatro los hiperparametros \n",
    "\n",
    "rm( list=ls() )  #Borro todos los objetos\n",
    "gc()   #Garbage Collection\n",
    "\n",
    "require(\"data.table\")\n",
    "require(\"rpart\")\n",
    "require(\"parallel\")"
   ]
  },
  {
   "cell_type": "code",
   "execution_count": 4,
   "id": "21e8940a-4848-4054-939d-91f6abbe7710",
   "metadata": {},
   "outputs": [],
   "source": [
    "options(repr.plot.width = 20, repr.plot.height = 10) \n",
    "setwd(\"C:\\\\Users\\\\oliva\\\\OneDrive\\\\Desktop\\\\DS\\\\Austral\\\\08 - Labo1\") #Aqui se debe poner la ruta de la PC local"
   ]
  },
  {
   "cell_type": "code",
   "execution_count": 5,
   "id": "da22f88d-dfa2-4c19-b017-de5124c7192d",
   "metadata": {},
   "outputs": [],
   "source": [
    "ksemillas <- c(477293, 525713, 679561, 895627, 978643) #reemplazar por las propias semillas\n",
    "semilla <- c(477293)"
   ]
  },
  {
   "cell_type": "code",
   "execution_count": 6,
   "id": "62ce7991-b14b-4367-9291-92952d9b8d1b",
   "metadata": {},
   "outputs": [],
   "source": [
    "#particionar agrega una columna llamada fold a un dataset que consiste en una particion estratificada segun agrupa\n",
    "# particionar( data=dataset, division=c(70,30), agrupa=clase_ternaria, seed=semilla)   crea una particion 70, 30 \n",
    "\n",
    "particionar <- function(data, division, agrupa = \" \",  campo = \"fold\", start = 1,  seed = NA)\n",
    "{\n",
    "  if(!is.na(seed)){  #Si la semilla no esta vacia\n",
    "      set.seed(seed) #Settearla con seed (el parametro enviado a la funcion)\n",
    "                  }\n",
    "    \n",
    "  bloque <- unlist(mapply(function(x,y) {rep(y, x)}, division, seq(from = start, length.out = length(division))))  \n",
    "    \n",
    "  data[, (campo) :=  sample(rep(bloque, ceiling(.N/length(bloque))))[1:.N],\n",
    "          by = agrupa] #todas las filas, crear (o asignar, es flexible depende si existe o no) una columna campo con ese contenido, agrupando por agrupa (en este caso clase ternaria)\n",
    "}\n"
   ]
  },
  {
   "cell_type": "code",
   "execution_count": 7,
   "id": "98299cb5-6d57-43bf-8f90-b2f33c5ca3c8",
   "metadata": {},
   "outputs": [],
   "source": [
    "ArbolEstimarGanancia  <- function( semilla, param_basicos )\n",
    "{\n",
    "  #particiono estratificadamente el dataset\n",
    "  particionar(dataset, division = c (70, 30), agrupa = \"clase_ternaria\", seed = semilla)  #Cambiar por la primer semilla de cada uno !\n",
    "\n",
    "  #genero el modelo\n",
    "  modelo  <- rpart(\"clase_ternaria ~ .\",     #quiero predecir clase_ternaria a partir del resto\n",
    "                   data = dataset[fold == 1],  #fold==1  es training,  el 70% de los datos\n",
    "                   xval = 0,\n",
    "                   control = param_basicos )  #aqui van los parametros del arbol\n",
    "\n",
    "  #aplico el modelo a los datos de testing\n",
    "  prediccion  <- predict(modelo,   #el modelo que genere recien\n",
    "                          dataset[fold==2],  #fold==2  es testing, el 30% de los datos\n",
    "                          type= \"prob\") #type= \"prob\"  es que devuelva la probabilidad\n",
    "\n",
    "  #prediccion es una matriz con TRES columnas, llamadas \"BAJA+1\", \"BAJA+2\"  y \"CONTINUA\"\n",
    "  #cada columna es el vector de probabilidades \n",
    "\n",
    "  #calculo la ganancia en testing  que es fold==2\n",
    "  ganancia_test  <- dataset[ fold==2, \n",
    "                             sum(ifelse( prediccion[, \"BAJA+2\"]  >  1/60,\n",
    "                                         ifelse(clase_ternaria==\"BAJA+2\", 59000, -1000 ),\n",
    "                                         0 ) )]\n",
    "\n",
    "  #escalo la ganancia como si fuera todo el dataset\n",
    "  ganancia_test_normalizada <- ganancia_test/0.3\n",
    "\n",
    "  return(ganancia_test_normalizada)\n",
    "}"
   ]
  },
  {
   "cell_type": "code",
   "execution_count": 8,
   "id": "24fe328f-0d16-4dba-b318-8e0b457f01a4",
   "metadata": {},
   "outputs": [],
   "source": [
    "ArbolesMontecarlo  <- function(semillas, param_basicos )\n",
    "{\n",
    "  #la funcion mcmapply  llama a la funcion ArbolEstimarGanancia  tantas veces como valores tenga el vector  ksemillas\n",
    "  ganancias  <- mcmapply( ArbolEstimarGanancia, \n",
    "                          semillas,   #paso el vector de semillas, que debe ser el primer parametro de la funcion ArbolEstimarGanancia\n",
    "                          MoreArgs= list( param_basicos),  #aqui paso el segundo parametro\n",
    "                          SIMPLIFY= FALSE,\n",
    "                          mc.cores= 1 )  #se puede subir a 5 si posee Linux o Mac OS\n",
    "\n",
    "  ganancia_promedio  <- mean( unlist(ganancias) )\n",
    "\n",
    "  return( ganancia_promedio )\n",
    "}\n"
   ]
  },
  {
   "cell_type": "code",
   "execution_count": 9,
   "id": "0e4ffc5a-ac04-4290-b90f-1b7665131bbe",
   "metadata": {},
   "outputs": [],
   "source": [
    "#Aqui se debe poner la carpeta de la computadora local\n",
    "setwd(\"C:\\\\Users\\\\oliva\\\\OneDrive\\\\Desktop\\\\DS\\\\Austral\\\\08 - Labo1\\\\labo\")  #Establezco el Working Directory\n",
    "\n",
    "#cargo los datos\n",
    "dataset  <- fread(\"./datasets/paquete_premium_202011.csv\")\n",
    "\n",
    "\n",
    "#genero el archivo para Kaggle\n",
    "#creo la carpeta donde va el experimento\n",
    "# HT  representa  Hiperparameter Tuning\n",
    "#dir.create( \"./labo/exp/\",  showWarnings = FALSE ) \n",
    "dir.create( \"./exp/HT2021/\", showWarnings = FALSE )\n",
    "archivo_salida  <- \"./exp/HT2021/gridsearch7.txt\"\n"
   ]
  },
  {
   "cell_type": "code",
   "execution_count": 10,
   "id": "972f02e9-470a-49e9-b821-f19040641c42",
   "metadata": {},
   "outputs": [],
   "source": [
    "#Escribo los titulos al archivo donde van a quedar los resultados\n",
    "#atencion que si ya existe el archivo, esta instruccion LO SOBREESCRIBE, y lo que estaba antes se pierde\n",
    "#la forma que no suceda lo anterior es con append=TRUE\n",
    "cat( file=archivo_salida,\n",
    "     sep= \"\",\n",
    "     \"cp\", \"\\t\",\n",
    "     \"max_depth\", \"\\t\",\n",
    "     \"min_split\", \"\\t\",\n",
    "     \"minbucket\", \"\\t\",\n",
    "     \"ganancia_promedio\", \"\\n\")"
   ]
  },
  {
   "cell_type": "code",
   "execution_count": 11,
   "id": "e6bc42cf-a3cd-4e0a-9c4b-8506a1179c78",
   "metadata": {},
   "outputs": [],
   "source": [
    "#itero por los loops anidados para cada hiperparametro\n",
    "for( cp  in  c(-0.799)  )\n",
    "{\n",
    "for( vmax_depth  in  c(6)  )\n",
    "{\n",
    "for( vmin_split  in  c(1310, 1320, 1330, 1340, 1345, 1355, 1362, 1370, 1380, 1390)  )\n",
    "{\n",
    "for( vmin_bucket  in  c(610, 620, 630, 640, 650, 660, 678)  )\n",
    "{ \n",
    "  #cp = -0.1\n",
    "  #notar como se agrega\n",
    "  param_basicos  <- list( \"cp\"=         cp,       #complejidad minima\n",
    "                          \"minsplit\"=  vmin_split,  #minima cantidad de registros en un nodo para hacer el split\n",
    "                          \"minbucket\"=  vmin_bucket,          #minima cantidad de registros en una hoja\n",
    "                          \"maxdepth\"=  vmax_depth ) #profundidad máxima del arbol\n",
    "\n",
    "  #Un solo llamado, con la semilla 17\n",
    "  ganancia_promedio  <- ArbolesMontecarlo( ksemillas,  param_basicos )\n",
    "\n",
    " #escribo los resultados al archivo de salida\n",
    "  cat(  file=archivo_salida,\n",
    "        append= TRUE,\n",
    "        sep= \"\",\n",
    "        cp, \"\\t\", \n",
    "        vmax_depth, \"\\t\",\n",
    "        vmin_split, \"\\t\",\n",
    "        vmin_bucket, \"\\t\",  \n",
    "        ganancia_promedio, \"\\n\"  )\n",
    "\n",
    "}\n",
    "}\n",
    "}\n",
    "}"
   ]
  },
  {
   "cell_type": "code",
   "execution_count": null,
   "id": "262cfd6c-aca9-47fb-a2e5-b5e305f3379f",
   "metadata": {},
   "outputs": [],
   "source": [
    "#itero por los loops anidados para cada hiperparametro\n",
    "\n",
    "for( vmax_depth  in  c( 4, 6 )  )\n",
    "{\n",
    "for( vmin_split  in  c(600,500, 400, 200 )  ) \n",
    "{\n",
    "\n",
    "  #notar como se agrega\n",
    "  param_basicos  <- list( \"cp\"=         -0,1,       #complejidad minima\n",
    "                          \"minsplit\"=  vmin_split,  #minima cantidad de registros en un nodo para hacer el split\n",
    "                          \"minbucket\"=  4,          #minima cantidad de registros en una hoja\n",
    "                          \"maxdepth\"=  vmax_depth ) #profundidad máxima del arbol\n",
    "\n",
    "  #Un solo llamado, con la semilla 17\n",
    "  ganancia_promedio  <- ArbolesMontecarlo( ksemillas,  param_basicos )\n",
    "\n",
    "  #escribo los resultados al archivo de salida\n",
    "  cat(  file=archivo_salida,\n",
    "        append= TRUE,\n",
    "        sep= \"\",\n",
    "        vmax_depth, \"\\t\",\n",
    "        vmin_split, \"\\t\",\n",
    "        ganancia_promedio, \"\\n\"  )\n",
    "\n",
    "}\n",
    "}"
   ]
  }
 ],
 "metadata": {
  "kernelspec": {
   "display_name": "R",
   "language": "R",
   "name": "ir"
  },
  "language_info": {
   "codemirror_mode": "r",
   "file_extension": ".r",
   "mimetype": "text/x-r-source",
   "name": "R",
   "pygments_lexer": "r",
   "version": "3.6.1"
  }
 },
 "nbformat": 4,
 "nbformat_minor": 5
}
