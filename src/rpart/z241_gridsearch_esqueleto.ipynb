{
 "cells": [
  {
   "cell_type": "code",
   "execution_count": 14,
   "id": "80d0cdbd-91e2-4ce3-8484-130990191cbe",
   "metadata": {},
   "outputs": [],
   "source": [
    "options(warn=-1)"
   ]
  },
  {
   "cell_type": "code",
   "execution_count": 15,
   "id": "5f211d1f-3114-47cc-b187-0e0bf601674c",
   "metadata": {},
   "outputs": [
    {
     "data": {
      "text/html": [
       "<table>\n",
       "<thead><tr><th></th><th scope=col>used</th><th scope=col>(Mb)</th><th scope=col>gc trigger</th><th scope=col>(Mb)</th><th scope=col>max used</th><th scope=col>(Mb)</th></tr></thead>\n",
       "<tbody>\n",
       "\t<tr><th scope=row>Ncells</th><td> 560487  </td><td>30.0     </td><td>  1278034</td><td> 68.3    </td><td>  1031695</td><td>  55.1   </td></tr>\n",
       "\t<tr><th scope=row>Vcells</th><td>1072223  </td><td> 8.2     </td><td>125813035</td><td>959.9    </td><td>187928773</td><td>1433.8   </td></tr>\n",
       "</tbody>\n",
       "</table>\n"
      ],
      "text/latex": [
       "\\begin{tabular}{r|llllll}\n",
       "  & used & (Mb) & gc trigger & (Mb) & max used & (Mb)\\\\\n",
       "\\hline\n",
       "\tNcells &  560487   & 30.0      &   1278034 &  68.3     &   1031695 &   55.1   \\\\\n",
       "\tVcells & 1072223   &  8.2      & 125813035 & 959.9     & 187928773 & 1433.8   \\\\\n",
       "\\end{tabular}\n"
      ],
      "text/markdown": [
       "\n",
       "| <!--/--> | used | (Mb) | gc trigger | (Mb) | max used | (Mb) |\n",
       "|---|---|---|---|---|---|---|\n",
       "| Ncells |  560487   | 30.0      |   1278034 |  68.3     |   1031695 |   55.1    |\n",
       "| Vcells | 1072223   |  8.2      | 125813035 | 959.9     | 187928773 | 1433.8    |\n",
       "\n"
      ],
      "text/plain": [
       "       used    (Mb) gc trigger (Mb)  max used  (Mb)  \n",
       "Ncells  560487 30.0   1278034   68.3   1031695   55.1\n",
       "Vcells 1072223  8.2 125813035  959.9 187928773 1433.8"
      ]
     },
     "metadata": {},
     "output_type": "display_data"
    }
   ],
   "source": [
    "#esqueleto de grid search\n",
    "#se espera que los alumnos completen lo que falta para recorrer TODOS cuatro los hiperparametros \n",
    "\n",
    "rm( list=ls() )  #Borro todos los objetos\n",
    "gc()   #Garbage Collection\n",
    "\n",
    "require(\"data.table\")\n",
    "require(\"rpart\")\n",
    "require(\"parallel\")"
   ]
  },
  {
   "cell_type": "code",
   "execution_count": 16,
   "id": "21e8940a-4848-4054-939d-91f6abbe7710",
   "metadata": {},
   "outputs": [],
   "source": [
    "options(repr.plot.width = 20, repr.plot.height = 10) \n",
    "setwd(\"C:\\\\Users\\\\oliva\\\\OneDrive\\\\Desktop\\\\DS\\\\Austral\\\\08 - Labo1\") #Aqui se debe poner la ruta de la PC local"
   ]
  },
  {
   "cell_type": "code",
   "execution_count": 17,
   "id": "da22f88d-dfa2-4c19-b017-de5124c7192d",
   "metadata": {},
   "outputs": [],
   "source": [
    "ksemillas <- c(477293, 525713, 679561, 895627, 978643) #reemplazar por las propias semillas\n",
    "semilla <- c(477293)"
   ]
  },
  {
   "cell_type": "code",
   "execution_count": 18,
   "id": "62ce7991-b14b-4367-9291-92952d9b8d1b",
   "metadata": {},
   "outputs": [],
   "source": [
    "#particionar agrega una columna llamada fold a un dataset que consiste en una particion estratificada segun agrupa\n",
    "# particionar( data=dataset, division=c(70,30), agrupa=clase_ternaria, seed=semilla)   crea una particion 70, 30 \n",
    "\n",
    "particionar <- function(data, division, agrupa = \" \",  campo = \"fold\", start = 1,  seed = NA)\n",
    "{\n",
    "  if(!is.na(seed)){  #Si la semilla no esta vacia\n",
    "      set.seed(seed) #Settearla con seed (el parametro enviado a la funcion)\n",
    "                  }\n",
    "    \n",
    "  bloque <- unlist(mapply(function(x,y) {rep(y, x)}, division, seq(from = start, length.out = length(division))))  \n",
    "    \n",
    "  data[, (campo) :=  sample(rep(bloque, ceiling(.N/length(bloque))))[1:.N],\n",
    "          by = agrupa] #todas las filas, crear (o asignar, es flexible depende si existe o no) una columna campo con ese contenido, agrupando por agrupa (en este caso clase ternaria)\n",
    "}\n"
   ]
  },
  {
   "cell_type": "code",
   "execution_count": 19,
   "id": "98299cb5-6d57-43bf-8f90-b2f33c5ca3c8",
   "metadata": {},
   "outputs": [],
   "source": [
    "ArbolEstimarGanancia  <- function( semilla, param_basicos )\n",
    "{\n",
    "  #particiono estratificadamente el dataset\n",
    "  particionar(dataset, division = c (70, 30), agrupa = \"clase_ternaria\", seed = semilla)  #Cambiar por la primer semilla de cada uno !\n",
    "\n",
    "  #genero el modelo\n",
    "  modelo  <- rpart(\"clase_ternaria ~ .\",     #quiero predecir clase_ternaria a partir del resto\n",
    "                   data = dataset[fold == 1],  #fold==1  es training,  el 70% de los datos\n",
    "                   xval = 0,\n",
    "                   control = param_basicos )  #aqui van los parametros del arbol\n",
    "\n",
    "  #aplico el modelo a los datos de testing\n",
    "  prediccion  <- predict(modelo,   #el modelo que genere recien\n",
    "                          dataset[fold==2],  #fold==2  es testing, el 30% de los datos\n",
    "                          type= \"prob\") #type= \"prob\"  es que devuelva la probabilidad\n",
    "\n",
    "  #prediccion es una matriz con TRES columnas, llamadas \"BAJA+1\", \"BAJA+2\"  y \"CONTINUA\"\n",
    "  #cada columna es el vector de probabilidades \n",
    "\n",
    "  #calculo la ganancia en testing  que es fold==2\n",
    "  ganancia_test  <- dataset[ fold==2, \n",
    "                             sum(ifelse( prediccion[, \"BAJA+2\"]  >  1/60,\n",
    "                                         ifelse(clase_ternaria==\"BAJA+2\", 59000, -1000 ),\n",
    "                                         0 ) )]\n",
    "\n",
    "  #escalo la ganancia como si fuera todo el dataset\n",
    "  ganancia_test_normalizada <- ganancia_test/0.3\n",
    "\n",
    "  return(ganancia_test_normalizada)\n",
    "}"
   ]
  },
  {
   "cell_type": "code",
   "execution_count": 20,
   "id": "24fe328f-0d16-4dba-b318-8e0b457f01a4",
   "metadata": {},
   "outputs": [],
   "source": [
    "ArbolesMontecarlo  <- function(semillas, param_basicos )\n",
    "{\n",
    "  #la funcion mcmapply  llama a la funcion ArbolEstimarGanancia  tantas veces como valores tenga el vector  ksemillas\n",
    "  ganancias  <- mcmapply( ArbolEstimarGanancia, \n",
    "                          semillas,   #paso el vector de semillas, que debe ser el primer parametro de la funcion ArbolEstimarGanancia\n",
    "                          MoreArgs= list( param_basicos),  #aqui paso el segundo parametro\n",
    "                          SIMPLIFY= FALSE,\n",
    "                          mc.cores= 1 )  #se puede subir a 5 si posee Linux o Mac OS\n",
    "\n",
    "  ganancia_promedio  <- mean( unlist(ganancias) )\n",
    "\n",
    "  return( ganancia_promedio )\n",
    "}\n"
   ]
  },
  {
   "cell_type": "code",
   "execution_count": 22,
   "id": "0e4ffc5a-ac04-4290-b90f-1b7665131bbe",
   "metadata": {},
   "outputs": [],
   "source": [
    "#Aqui se debe poner la carpeta de la computadora local\n",
    "setwd(\"C:\\\\Users\\\\oliva\\\\OneDrive\\\\Desktop\\\\DS\\\\Austral\\\\08 - Labo1\\\\labo\")  #Establezco el Working Directory\n",
    "\n",
    "#cargo los datos\n",
    "dataset  <- fread(\"./datasets/paquete_premium_202011.csv\")\n",
    "\n",
    "\n",
    "#genero el archivo para Kaggle\n",
    "#creo la carpeta donde va el experimento\n",
    "# HT  representa  Hiperparameter Tuning\n",
    "#dir.create( \"./labo/exp/\",  showWarnings = FALSE ) \n",
    "dir.create( \"./exp/HT2021/\", showWarnings = FALSE )\n",
    "archivo_salida  <- \"./exp/HT2021/gridsearch.csv\"\n"
   ]
  },
  {
   "cell_type": "code",
   "execution_count": 23,
   "id": "972f02e9-470a-49e9-b821-f19040641c42",
   "metadata": {},
   "outputs": [],
   "source": [
    "#Escribo los titulos al archivo donde van a quedar los resultados\n",
    "#atencion que si ya existe el archivo, esta instruccion LO SOBREESCRIBE, y lo que estaba antes se pierde\n",
    "#la forma que no suceda lo anterior es con append=TRUE\n",
    "cat( file=archivo_salida,\n",
    "     sep= \",\",\n",
    "     \"cp\", \"\\t\",\n",
    "     \"max_depth\", \"\\t\",\n",
    "     \"min_split\", \"\\t\",\n",
    "     \"minbucket\", \"\\t\",\n",
    "     \"ganancia_promedio\", \"\\n\")"
   ]
  },
  {
   "cell_type": "code",
   "execution_count": 24,
   "id": "262cfd6c-aca9-47fb-a2e5-b5e305f3379f",
   "metadata": {},
   "outputs": [
    {
     "ename": "ERROR",
     "evalue": "Error in file(file, ifelse(append, \"a\", \"w\")): cannot open the connection\n",
     "output_type": "error",
     "traceback": [
      "Error in file(file, ifelse(append, \"a\", \"w\")): cannot open the connection\nTraceback:\n",
      "1. cat(file = archivo_salida, append = TRUE, sep = \",\", cp, \"\\t\", \n .     vmax_depth, \"\\t\", vmin_split, \"\\t\", vmin_bucket, \"\\t\", ganancia_promedio, \n .     \"\\n\")",
      "2. file(file, ifelse(append, \"a\", \"w\"))"
     ]
    }
   ],
   "source": [
    "#itero por los loops anidados para cada hiperparametro\n",
    "\n",
    "for( vmax_depth  in  c( 5, 6, 8, 10, 12, 15 )  )\n",
    "{\n",
    "for( vmin_split  in  c( 1000, 800, 600, 400, 200, 100, 50, 20, 10 )  )\n",
    "{\n",
    "for( vmin_bucket  in  c( 1, 5, 10, 15, 20, 25, 35, 50 )  )\n",
    "{ \n",
    "for( cp  in  c( -1, -0.5)  )\n",
    "{ \n",
    "    \n",
    "  #notar como se agrega\n",
    "  param_basicos  <- list( \"cp\"=         cp,       #complejidad minima\n",
    "                          \"minsplit\"=  vmin_split,  #minima cantidad de registros en un nodo para hacer el split\n",
    "                          \"minbucket\"=  vmin_bucket,          #minima cantidad de registros en una hoja\n",
    "                          \"maxdepth\"=  vmax_depth ) #profundidad máxima del arbol\n",
    "\n",
    "  #Un solo llamado, con la semilla 17\n",
    "  ganancia_promedio  <- ArbolesMontecarlo( ksemillas,  param_basicos )\n",
    "\n",
    " #escribo los resultados al archivo de salida\n",
    "  cat(  file=archivo_salida,\n",
    "        append= TRUE,\n",
    "        sep= \",\",\n",
    "        cp, \"\\t\", \n",
    "        vmax_depth, \"\\t\",\n",
    "        vmin_split, \"\\t\",\n",
    "        vmin_bucket, \"\\t\",  \n",
    "        ganancia_promedio, \"\\n\"  )\n",
    "\n",
    "}\n",
    "}\n",
    "}\n",
    "}"
   ]
  },
  {
   "cell_type": "code",
   "execution_count": null,
   "id": "202a8b22-df28-4395-bc49-bb8c06f5a219",
   "metadata": {},
   "outputs": [],
   "source": []
  }
 ],
 "metadata": {
  "kernelspec": {
   "display_name": "R",
   "language": "R",
   "name": "ir"
  },
  "language_info": {
   "codemirror_mode": "r",
   "file_extension": ".r",
   "mimetype": "text/x-r-source",
   "name": "R",
   "pygments_lexer": "r",
   "version": "3.6.1"
  }
 },
 "nbformat": 4,
 "nbformat_minor": 5
}
