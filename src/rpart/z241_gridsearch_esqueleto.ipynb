{
 "cells": [
  {
   "cell_type": "code",
   "execution_count": 1,
   "id": "5f211d1f-3114-47cc-b187-0e0bf601674c",
   "metadata": {},
   "outputs": [
    {
     "data": {
      "text/html": [
       "<table>\n",
       "<thead><tr><th></th><th scope=col>used</th><th scope=col>(Mb)</th><th scope=col>gc trigger</th><th scope=col>(Mb)</th><th scope=col>max used</th><th scope=col>(Mb)</th></tr></thead>\n",
       "<tbody>\n",
       "\t<tr><th scope=row>Ncells</th><td>469836 </td><td>25.1   </td><td>1031432</td><td>55.1   </td><td> 621911</td><td>33.3   </td></tr>\n",
       "\t<tr><th scope=row>Vcells</th><td>867049 </td><td> 6.7   </td><td>8388608</td><td>64.0   </td><td>1601572</td><td>12.3   </td></tr>\n",
       "</tbody>\n",
       "</table>\n"
      ],
      "text/latex": [
       "\\begin{tabular}{r|llllll}\n",
       "  & used & (Mb) & gc trigger & (Mb) & max used & (Mb)\\\\\n",
       "\\hline\n",
       "\tNcells & 469836  & 25.1    & 1031432 & 55.1    &  621911 & 33.3   \\\\\n",
       "\tVcells & 867049  &  6.7    & 8388608 & 64.0    & 1601572 & 12.3   \\\\\n",
       "\\end{tabular}\n"
      ],
      "text/markdown": [
       "\n",
       "| <!--/--> | used | (Mb) | gc trigger | (Mb) | max used | (Mb) |\n",
       "|---|---|---|---|---|---|---|\n",
       "| Ncells | 469836  | 25.1    | 1031432 | 55.1    |  621911 | 33.3    |\n",
       "| Vcells | 867049  |  6.7    | 8388608 | 64.0    | 1601572 | 12.3    |\n",
       "\n"
      ],
      "text/plain": [
       "       used   (Mb) gc trigger (Mb) max used (Mb)\n",
       "Ncells 469836 25.1 1031432    55.1  621911  33.3\n",
       "Vcells 867049  6.7 8388608    64.0 1601572  12.3"
      ]
     },
     "metadata": {},
     "output_type": "display_data"
    },
    {
     "name": "stderr",
     "output_type": "stream",
     "text": [
      "Loading required package: data.table\n",
      "Loading required package: rpart\n",
      "Loading required package: parallel\n"
     ]
    }
   ],
   "source": [
    "#esqueleto de grid search\n",
    "#se espera que los alumnos completen lo que falta para recorrer TODOS cuatro los hiperparametros \n",
    "\n",
    "rm( list=ls() )  #Borro todos los objetos\n",
    "gc()   #Garbage Collection\n",
    "\n",
    "require(\"data.table\")\n",
    "require(\"rpart\")\n",
    "require(\"parallel\")"
   ]
  },
  {
   "cell_type": "code",
   "execution_count": null,
   "id": "da22f88d-dfa2-4c19-b017-de5124c7192d",
   "metadata": {},
   "outputs": [],
   "source": [
    "ksemillas  <- c(102191, 200177, 410551, 552581, 892237) #reemplazar por las propias semillas"
   ]
  },
  {
   "cell_type": "code",
   "execution_count": null,
   "id": "62ce7991-b14b-4367-9291-92952d9b8d1b",
   "metadata": {},
   "outputs": [],
   "source": [
    "#particionar agrega una columna llamada fold a un dataset que consiste en una particion estratificada segun agrupa\n",
    "# particionar( data=dataset, division=c(70,30), agrupa=clase_ternaria, seed=semilla)   crea una particion 70, 30 \n",
    "\n",
    "particionar  <- function( data,  division, agrupa=\"\",  campo=\"fold\", start=1, seed=NA )\n",
    "{\n",
    "  if( !is.na(seed) )   set.seed( seed )\n",
    "\n",
    "  bloque  <- unlist( mapply(  function(x,y) { rep( y, x )} ,   division,  seq( from=start, length.out=length(division) )  ) )  \n",
    "\n",
    "  data[ , (campo) :=  sample( rep( bloque, ceiling(.N/length(bloque))) )[1:.N],\n",
    "          by= agrupa ]\n",
    "}"
   ]
  },
  {
   "cell_type": "code",
   "execution_count": null,
   "id": "98299cb5-6d57-43bf-8f90-b2f33c5ca3c8",
   "metadata": {},
   "outputs": [],
   "source": [
    "ArbolEstimarGanancia  <- function( semilla, param_basicos )\n",
    "{\n",
    "  #particiono estratificadamente el dataset\n",
    "  particionar( dataset, division=c(70,30), agrupa=\"clase_ternaria\", seed= semilla )  #Cambiar por la primer semilla de cada uno !\n",
    "\n",
    "  #genero el modelo\n",
    "  modelo  <- rpart(\"clase_ternaria ~ .\",     #quiero predecir clase_ternaria a partir del resto\n",
    "                   data= dataset[ fold==1],  #fold==1  es training,  el 70% de los datos\n",
    "                   xval= 0,\n",
    "                   control= param_basicos )  #aqui van los parametros del arbol\n",
    "\n",
    "  #aplico el modelo a los datos de testing\n",
    "  prediccion  <- predict( modelo,   #el modelo que genere recien\n",
    "                          dataset[ fold==2],  #fold==2  es testing, el 30% de los datos\n",
    "                          type= \"prob\") #type= \"prob\"  es que devuelva la probabilidad\n",
    "\n",
    "  #prediccion es una matriz con TRES columnas, llamadas \"BAJA+1\", \"BAJA+2\"  y \"CONTINUA\"\n",
    "  #cada columna es el vector de probabilidades \n",
    "\n",
    "\n",
    "  #calculo la ganancia en testing  qu es fold==2\n",
    "  ganancia_test  <- dataset[ fold==2, \n",
    "                             sum( ifelse( prediccion[, \"BAJA+2\"]  >  1/60,\n",
    "                                         ifelse( clase_ternaria==\"BAJA+2\", 59000, -1000 ),\n",
    "                                         0 ) )]\n",
    "\n",
    "  #escalo la ganancia como si fuera todo el dataset\n",
    "  ganancia_test_normalizada  <-  ganancia_test / 0.3\n",
    "\n",
    "  return( ganancia_test_normalizada )\n",
    "}\n"
   ]
  },
  {
   "cell_type": "code",
   "execution_count": null,
   "id": "24fe328f-0d16-4dba-b318-8e0b457f01a4",
   "metadata": {},
   "outputs": [],
   "source": [
    "ArbolesMontecarlo  <- function( semillas, param_basicos )\n",
    "{\n",
    "  #la funcion mcmapply  llama a la funcion ArbolEstimarGanancia  tantas veces como valores tenga el vector  ksemillas\n",
    "  ganancias  <- mcmapply( ArbolEstimarGanancia, \n",
    "                          semillas,   #paso el vector de semillas, que debe ser el primer parametro de la funcion ArbolEstimarGanancia\n",
    "                          MoreArgs= list( param_basicos),  #aqui paso el segundo parametro\n",
    "                          SIMPLIFY= FALSE,\n",
    "                          mc.cores= 1 )  #se puede subir a 5 si posee Linux o Mac OS\n",
    "\n",
    "  ganancia_promedio  <- mean( unlist(ganancias) )\n",
    "\n",
    "  return( ganancia_promedio )\n",
    "}\n"
   ]
  },
  {
   "cell_type": "code",
   "execution_count": null,
   "id": "0e4ffc5a-ac04-4290-b90f-1b7665131bbe",
   "metadata": {},
   "outputs": [],
   "source": [
    "#Aqui se debe poner la carpeta de la computadora local\n",
    "setwd(\"D:\\\\gdrive\\\\Austral2022R\\\\\")   #Establezco el Working Directory\n",
    "\n",
    "#cargo los datos\n",
    "dataset  <- fread(\"./datasets/paquete_premium_202011.csv\")\n",
    "\n",
    "\n",
    "#genero el archivo para Kaggle\n",
    "#creo la carpeta donde va el experimento\n",
    "# HT  representa  Hiperparameter Tuning\n",
    "dir.create( \"./labo/exp/\",  showWarnings = FALSE ) \n",
    "dir.create( \"./labo/exp/HT2020/\", showWarnings = FALSE )\n",
    "archivo_salida  <- \"./labo/exp/HT2020/gridsearch.txt\"\n"
   ]
  },
  {
   "cell_type": "code",
   "execution_count": null,
   "id": "972f02e9-470a-49e9-b821-f19040641c42",
   "metadata": {},
   "outputs": [],
   "source": [
    "#Escribo los titulos al archivo donde van a quedar los resultados\n",
    "#atencion que si ya existe el archivo, esta instruccion LO SOBREESCRIBE, y lo que estaba antes se pierde\n",
    "#la forma que no suceda lo anterior es con append=TRUE\n",
    "cat( file=archivo_salida,\n",
    "     sep= \"\",\n",
    "     \"max_depth\", \"\\t\",\n",
    "     \"min_split\", \"\\t\",\n",
    "     \"ganancia_promedio\", \"\\n\")\n"
   ]
  },
  {
   "cell_type": "code",
   "execution_count": null,
   "id": "262cfd6c-aca9-47fb-a2e5-b5e305f3379f",
   "metadata": {},
   "outputs": [],
   "source": [
    "#itero por los loops anidados para cada hiperparametro\n",
    "\n",
    "for( vmax_depth  in  c( 4, 6, 8, 10, 12, 14 )  )\n",
    "{\n",
    "for( vmin_split  in  c( 1000, 800, 600, 400, 200, 100, 50, 20, 10 )  )\n",
    "{\n",
    "\n",
    "  #notar como se agrega\n",
    "  param_basicos  <- list( \"cp\"=         -0.5,       #complejidad minima\n",
    "                          \"minsplit\"=  vmin_split,  #minima cantidad de registros en un nodo para hacer el split\n",
    "                          \"minbucket\"=  5,          #minima cantidad de registros en una hoja\n",
    "                          \"maxdepth\"=  vmax_depth ) #profundidad máxima del arbol\n",
    "\n",
    "  #Un solo llamado, con la semilla 17\n",
    "  ganancia_promedio  <- ArbolesMontecarlo( ksemillas,  param_basicos )\n",
    "\n",
    "  #escribo los resultados al archivo de salida\n",
    "  cat(  file=archivo_salida,\n",
    "        append= TRUE,\n",
    "        sep= \"\",\n",
    "        vmax_depth, \"\\t\",\n",
    "        vmin_split, \"\\t\",\n",
    "        ganancia_promedio, \"\\n\"  )\n",
    "\n",
    "}\n",
    "}"
   ]
  }
 ],
 "metadata": {
  "kernelspec": {
   "display_name": "R",
   "language": "R",
   "name": "ir"
  },
  "language_info": {
   "codemirror_mode": "r",
   "file_extension": ".r",
   "mimetype": "text/x-r-source",
   "name": "R",
   "pygments_lexer": "r",
   "version": "3.6.1"
  }
 },
 "nbformat": 4,
 "nbformat_minor": 5
}
