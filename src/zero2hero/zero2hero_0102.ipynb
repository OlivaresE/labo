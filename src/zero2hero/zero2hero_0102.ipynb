{
 "cells": [
  {
   "cell_type": "markdown",
   "metadata": {},
   "source": [
    "# Zero to Hero\n",
    "\n",
    "Bibliografia\n",
    "\n",
    "data.table in R – The Complete Beginners Guide in https://www.machinelearningplus.com/\n",
    "\n",
    "https://cran.r-project.org/web/packages/data.table\n",
    "\n",
    "https://s3.amazonaws.com/assets.datacamp.com/img/blog/data+table+cheat+sheet.pdf"
   ]
  },
  {
   "cell_type": "markdown",
   "metadata": {},
   "source": [
    "## 1.02  Carga del dataset desde la nube y operaciones básicas"
   ]
  },
  {
   "cell_type": "markdown",
   "metadata": {},
   "source": [
    "Se muestra una alternativa a cargar el dataset directamente desde la nube, que funciona desde Kaggle, Google Colab\n",
    "<br>\n",
    "Si se está corriendo desde la PC local, siempre es preferible cargar el archivo del disco local."
   ]
  },
  {
   "cell_type": "code",
   "execution_count": 63,
   "metadata": {},
   "outputs": [
    {
     "name": "stdout",
     "output_type": "stream",
     "text": [
      "\n",
      "  There is a binary version available but the source version is later:\n",
      "        binary source needs_compilation\n",
      "ggplot2  3.3.3  3.3.5             FALSE\n",
      "\n"
     ]
    },
    {
     "name": "stderr",
     "output_type": "stream",
     "text": [
      "installing the source package 'ggplot2'\n",
      "\n"
     ]
    }
   ],
   "source": [
    "options(warn=-1)\n",
    "#install.packages(\"tidyverse\", dependencies = TRUE)\n",
    "#install.packages(\"readr\")\n",
    "#install.packages(\"png\")\n",
    "#install.packages(\"imager\")\n",
    "#install.packages(\"ggplot2\")"
   ]
  },
  {
   "cell_type": "code",
   "execution_count": 56,
   "metadata": {},
   "outputs": [],
   "source": [
    "setwd(\"C:\\\\Users\\\\oliva\\\\OneDrive\\\\Desktop\\\\DS\\\\Austral\\\\08 - Labo1\\\\labo\\\\src\\\\zero2hero\")"
   ]
  },
  {
   "cell_type": "code",
   "execution_count": 64,
   "metadata": {},
   "outputs": [],
   "source": [
    "library(\"data.table\") #cargo la libreria  data.table\n",
    "library(\"readr\") #cargo la libreria readr\n",
    "library(\"png\")\n",
    "library(\"imager\")\n",
    "library(\"ggplot2\")"
   ]
  },
  {
   "cell_type": "markdown",
   "metadata": {},
   "source": [
    "\"https://storage.googleapis.com/austral2022r/paquete_premium_202011.csv\" está en el repositorio de la asignatura"
   ]
  },
  {
   "cell_type": "markdown",
   "metadata": {},
   "source": [
    "The way you work with data.tables is quite different from how you’d work with data.frames. Let’s understand these difference first while you gain mastery over this fantastic package. The fread(), short for fast read is data.tables version of read.csv(). Like read.csv() it works for a file in your local computer as well as file hosted on the internet."
   ]
  },
  {
   "cell_type": "code",
   "execution_count": 11,
   "metadata": {},
   "outputs": [
    {
     "data": {
      "text/html": [
       "<ol class=list-inline>\n",
       "\t<li>'data.table'</li>\n",
       "\t<li>'data.frame'</li>\n",
       "</ol>\n"
      ],
      "text/latex": [
       "\\begin{enumerate*}\n",
       "\\item 'data.table'\n",
       "\\item 'data.frame'\n",
       "\\end{enumerate*}\n"
      ],
      "text/markdown": [
       "1. 'data.table'\n",
       "2. 'data.frame'\n",
       "\n",
       "\n"
      ],
      "text/plain": [
       "[1] \"data.table\" \"data.frame\""
      ]
     },
     "metadata": {},
     "output_type": "display_data"
    }
   ],
   "source": [
    "dataset <- fread(\"https://storage.googleapis.com/austral2022r/paquete_premium_202011.csv\")\n",
    "class(dataset)"
   ]
  },
  {
   "cell_type": "code",
   "execution_count": 12,
   "metadata": {},
   "outputs": [
    {
     "name": "stderr",
     "output_type": "stream",
     "text": [
      "\n",
      "-- Column specification --------------------------------------------------------\n",
      "cols(\n",
      "  .default = col_double(),\n",
      "  clase_ternaria = col_character()\n",
      ")\n",
      "i Use `spec()` for the full column specifications.\n",
      "\n"
     ]
    },
    {
     "data": {
      "text/html": [
       "<ol class=list-inline>\n",
       "\t<li>'data.table'</li>\n",
       "\t<li>'data.frame'</li>\n",
       "</ol>\n"
      ],
      "text/latex": [
       "\\begin{enumerate*}\n",
       "\\item 'data.table'\n",
       "\\item 'data.frame'\n",
       "\\end{enumerate*}\n"
      ],
      "text/markdown": [
       "1. 'data.table'\n",
       "2. 'data.frame'\n",
       "\n",
       "\n"
      ],
      "text/plain": [
       "[1] \"data.table\" \"data.frame\""
      ]
     },
     "metadata": {},
     "output_type": "display_data"
    }
   ],
   "source": [
    "#En caso de que se encuentre en formato data.frame, es posible pasarlo a data.table:\n",
    "dataframe <- read_csv(\"https://storage.googleapis.com/austral2022r/paquete_premium_202011.csv\")\n",
    "setDT(dataframe)\n",
    "class(dataframe)"
   ]
  },
  {
   "cell_type": "markdown",
   "metadata": {},
   "source": [
    "Obviamente ahora el leer el archivo demora bastante, ya que se está bajando por internet, están bajando 117MB"
   ]
  },
  {
   "cell_type": "markdown",
   "metadata": {},
   "source": [
    "### Ahora, algunas operaciones básicas con el dataset"
   ]
  },
  {
   "cell_type": "markdown",
   "metadata": {},
   "source": [
    "cantidad de registros y columnas"
   ]
  },
  {
   "cell_type": "code",
   "execution_count": 13,
   "metadata": {},
   "outputs": [
    {
     "data": {
      "text/html": [
       "159388"
      ],
      "text/latex": [
       "159388"
      ],
      "text/markdown": [
       "159388"
      ],
      "text/plain": [
       "[1] 159388"
      ]
     },
     "metadata": {},
     "output_type": "display_data"
    },
    {
     "data": {
      "text/html": [
       "159"
      ],
      "text/latex": [
       "159"
      ],
      "text/markdown": [
       "159"
      ],
      "text/plain": [
       "[1] 159"
      ]
     },
     "metadata": {},
     "output_type": "display_data"
    }
   ],
   "source": [
    "nrow(dataset)\n",
    "ncol(dataset)"
   ]
  },
  {
   "cell_type": "code",
   "execution_count": 17,
   "metadata": {},
   "outputs": [
    {
     "data": {
      "image/png": "[encoded data removed]",
      "text/plain": [
       "Plot with title \"\""
      ]
     },
     "metadata": {},
     "output_type": "display_data"
    }
   ],
   "source": [
    "im <- load.image(\"https://www.machinelearningplus.com/wp-content/uploads/2019/11/data_table_syntax.png\")\n",
    "plot(im, axes = F)"
   ]
  },
  {
   "cell_type": "markdown",
   "metadata": {},
   "source": [
    "## Filtrado con data.table\n",
    "\n",
    "The main difference with data.frame is: data.table is aware of its column names. So while filtering, passing only the columns names inside the square brackets is sufficient.\n",
    "Es decir, las buenas practicas recomiendan filtrar usando nombres de columnas y no posiciones/indices numericos"
   ]
  },
  {
   "cell_type": "markdown",
   "metadata": {},
   "source": [
    "Otra forma de ver la cantidad de registros del dataset, al  *estilo data table*\n",
    "<br>\n",
    "El .N  es la cantidad de registros y va en la segunda posición del dataset[ 1, 2, 3 ]"
   ]
  },
  {
   "cell_type": "code",
   "execution_count": 18,
   "metadata": {},
   "outputs": [
    {
     "data": {
      "text/html": [
       "159388"
      ],
      "text/latex": [
       "159388"
      ],
      "text/markdown": [
       "159388"
      ],
      "text/plain": [
       "[1] 159388"
      ]
     },
     "metadata": {},
     "output_type": "display_data"
    }
   ],
   "source": [
    "dataset[, .N]"
   ]
  },
  {
   "cell_type": "code",
   "execution_count": 30,
   "metadata": {},
   "outputs": [
    {
     "data": {
      "text/html": [
       "<table>\n",
       "<thead><tr><th scope=col>cliente_edad</th><th scope=col>cliente_antiguedad</th><th scope=col>mrentabilidad</th></tr></thead>\n",
       "<tbody>\n",
       "\t<tr><td>53     </td><td> 35    </td><td>1576.59</td></tr>\n",
       "\t<tr><td>44     </td><td> 23    </td><td>1771.25</td></tr>\n",
       "\t<tr><td>64     </td><td>139    </td><td>3133.43</td></tr>\n",
       "\t<tr><td>59     </td><td>253    </td><td>9579.53</td></tr>\n",
       "\t<tr><td>52     </td><td>130    </td><td>1282.12</td></tr>\n",
       "</tbody>\n",
       "</table>\n"
      ],
      "text/latex": [
       "\\begin{tabular}{r|lll}\n",
       " cliente\\_edad & cliente\\_antiguedad & mrentabilidad\\\\\n",
       "\\hline\n",
       "\t 53      &  35     & 1576.59\\\\\n",
       "\t 44      &  23     & 1771.25\\\\\n",
       "\t 64      & 139     & 3133.43\\\\\n",
       "\t 59      & 253     & 9579.53\\\\\n",
       "\t 52      & 130     & 1282.12\\\\\n",
       "\\end{tabular}\n"
      ],
      "text/markdown": [
       "\n",
       "| cliente_edad | cliente_antiguedad | mrentabilidad |\n",
       "|---|---|---|\n",
       "| 53      |  35     | 1576.59 |\n",
       "| 44      |  23     | 1771.25 |\n",
       "| 64      | 139     | 3133.43 |\n",
       "| 59      | 253     | 9579.53 |\n",
       "| 52      | 130     | 1282.12 |\n",
       "\n"
      ],
      "text/plain": [
       "  cliente_edad cliente_antiguedad mrentabilidad\n",
       "1 53            35                1576.59      \n",
       "2 44            23                1771.25      \n",
       "3 64           139                3133.43      \n",
       "4 59           253                9579.53      \n",
       "5 52           130                1282.12      "
      ]
     },
     "metadata": {},
     "output_type": "display_data"
    }
   ],
   "source": [
    "#Se recomienda usar la sintaxis .(col1, col2, col3) pero puede usarse list(col1, col2, col3)\n",
    "dataset[1:5, .(cliente_edad, cliente_antiguedad, mrentabilidad)] # ejemplo de filtrado. "
   ]
  },
  {
   "cell_type": "markdown",
   "metadata": {},
   "source": [
    "Exploración de clase_ternaria."
   ]
  },
  {
   "cell_type": "code",
   "execution_count": 6,
   "metadata": {},
   "outputs": [
    {
     "data": {
      "text/html": [
       "<table>\n",
       "<thead><tr><th scope=col>clase_ternaria</th><th scope=col>N</th></tr></thead>\n",
       "<tbody>\n",
       "\t<tr><td>CONTINUA</td><td>158229  </td></tr>\n",
       "\t<tr><td>BAJA+1  </td><td>   511  </td></tr>\n",
       "\t<tr><td>BAJA+2  </td><td>   648  </td></tr>\n",
       "</tbody>\n",
       "</table>\n"
      ],
      "text/latex": [
       "\\begin{tabular}{r|ll}\n",
       " clase\\_ternaria & N\\\\\n",
       "\\hline\n",
       "\t CONTINUA & 158229  \\\\\n",
       "\t BAJA+1   &    511  \\\\\n",
       "\t BAJA+2   &    648  \\\\\n",
       "\\end{tabular}\n"
      ],
      "text/markdown": [
       "\n",
       "| clase_ternaria | N |\n",
       "|---|---|\n",
       "| CONTINUA | 158229   |\n",
       "| BAJA+1   |    511   |\n",
       "| BAJA+2   |    648   |\n",
       "\n"
      ],
      "text/plain": [
       "  clase_ternaria N     \n",
       "1 CONTINUA       158229\n",
       "2 BAJA+1            511\n",
       "3 BAJA+2            648"
      ]
     },
     "metadata": {},
     "output_type": "display_data"
    }
   ],
   "source": [
    "dataset[, .N, clase_ternaria] # Toma todas las columnas, agrupa por clase_ternaria y ofrece recuento (N)"
   ]
  },
  {
   "cell_type": "markdown",
   "metadata": {},
   "source": [
    "###  Varias formas de contar los BAJA+2"
   ]
  },
  {
   "cell_type": "markdown",
   "metadata": {},
   "source": [
    "Distintas sintaxis que arrojan mismo resultado"
   ]
  },
  {
   "cell_type": "code",
   "execution_count": 35,
   "metadata": {},
   "outputs": [
    {
     "data": {
      "text/html": [
       "648"
      ],
      "text/latex": [
       "648"
      ],
      "text/markdown": [
       "648"
      ],
      "text/plain": [
       "[1] 648"
      ]
     },
     "metadata": {},
     "output_type": "display_data"
    }
   ],
   "source": [
    "nrow(dataset[clase_ternaria == \"BAJA+2\"])"
   ]
  },
  {
   "cell_type": "code",
   "execution_count": 38,
   "metadata": {},
   "outputs": [
    {
     "data": {
      "text/html": [
       "648"
      ],
      "text/latex": [
       "648"
      ],
      "text/markdown": [
       "648"
      ],
      "text/plain": [
       "[1] 648"
      ]
     },
     "metadata": {},
     "output_type": "display_data"
    }
   ],
   "source": [
    "dataset[, sum(clase_ternaria==\"BAJA+2\")]"
   ]
  },
  {
   "cell_type": "markdown",
   "metadata": {},
   "source": [
    "#### Sintaxis recomendada\n",
    "\n",
    "WHERE clase_ternaria==\"BAJA+2\" \n",
    "\n",
    "Queda explicito la equuivalencia entre el primer argumento del filtrado con la clausula where de SQL\n",
    "\n",
    "##### .N\n",
    "Pero... ¿que hace N? .N is a special built-in variable that holds the number of observations in the current group. \n",
    "It is particularly useful when combined with by. \n",
    "In the absence of group by operations, it simply returns the number of rows in the subset."
   ]
  },
  {
   "cell_type": "code",
   "execution_count": 37,
   "metadata": {},
   "outputs": [
    {
     "data": {
      "text/html": [
       "648"
      ],
      "text/latex": [
       "648"
      ],
      "text/markdown": [
       "648"
      ],
      "text/plain": [
       "[1] 648"
      ]
     },
     "metadata": {},
     "output_type": "display_data"
    }
   ],
   "source": [
    "dataset[clase_ternaria == \"BAJA+2\", .N] # el autentico estilo data.table, where baja+2, .N para contar numero de filas"
   ]
  },
  {
   "cell_type": "markdown",
   "metadata": {},
   "source": [
    "#### Conteo de proporcion de BAJA+2 en el dataset"
   ]
  },
  {
   "cell_type": "code",
   "execution_count": 44,
   "metadata": {},
   "outputs": [
    {
     "data": {
      "text/html": [
       "0.00406555073154817"
      ],
      "text/latex": [
       "0.00406555073154817"
      ],
      "text/markdown": [
       "0.00406555073154817"
      ],
      "text/plain": [
       "[1] 0.004065551"
      ]
     },
     "metadata": {},
     "output_type": "display_data"
    }
   ],
   "source": [
    "dataset[, sum(clase_ternaria == \"BAJA+2\") / .N] # obtiene la proporcion sumando y diviendo por el total de filas"
   ]
  },
  {
   "cell_type": "markdown",
   "metadata": {},
   "source": [
    "#### Conteo de la proporcion de BAJA+2 en un predicado"
   ]
  },
  {
   "cell_type": "code",
   "execution_count": 45,
   "metadata": {},
   "outputs": [
    {
     "data": {
      "text/html": [
       "0.0261029706141404"
      ],
      "text/latex": [
       "0.0261029706141404"
      ],
      "text/markdown": [
       "0.0261029706141404"
      ],
      "text/plain": [
       "[1] 0.02610297"
      ]
     },
     "metadata": {},
     "output_type": "display_data"
    }
   ],
   "source": [
    "dataset[ctrx_quarter < 20, sum(clase_ternaria == \"BAJA+2\") / .N] # proporcion de baja+2 en clientes que realizaron menos de 20 movimientos en los ultimos 90 dias"
   ]
  },
  {
   "cell_type": "markdown",
   "metadata": {},
   "source": [
    "### Ganancias del dataset - Nueva columna"
   ]
  },
  {
   "cell_type": "markdown",
   "metadata": {},
   "source": [
    "Agregando columnas: You can always create a new column as you do with a data.frame, but, data.table lets you create column from within square brackets. This saves key strokes. Se debe usar el simbolo \":=\"."
   ]
  },
  {
   "cell_type": "markdown",
   "metadata": {},
   "source": [
    "Creo la columna ganancia y la populo con el valor de -1000\n",
    "<br>"
   ]
  },
  {
   "cell_type": "code",
   "execution_count": 47,
   "metadata": {},
   "outputs": [],
   "source": [
    "dataset[, ganancia := -1000] # crea columna, asigna -1000"
   ]
  },
  {
   "cell_type": "markdown",
   "metadata": {},
   "source": [
    "Se asigna 59000 a los registros que cumplen con la condicion clase_ternaria=BAJA+2"
   ]
  },
  {
   "cell_type": "code",
   "execution_count": 49,
   "metadata": {},
   "outputs": [],
   "source": [
    "dataset[clase_ternaria == \"BAJA+2\", ganancia := 59000] #WHERE clase_ternaria == baja+2, entonces asignar 59000 en columna ganancia"
   ]
  },
  {
   "cell_type": "markdown",
   "metadata": {},
   "source": [
    "Calculo la ganancia que tendria una campaña en donde envío estímulo a TODOS los clientes"
   ]
  },
  {
   "cell_type": "code",
   "execution_count": 54,
   "metadata": {},
   "outputs": [
    {
     "data": {
      "text/html": [
       "-120508000"
      ],
      "text/latex": [
       "-120508000"
      ],
      "text/markdown": [
       "-120508000"
      ],
      "text/plain": [
       "[1] -120508000"
      ]
     },
     "metadata": {},
     "output_type": "display_data"
    }
   ],
   "source": [
    "dataset[, sum(ganancia)] #suma los valores de la columan, para todas las filas"
   ]
  },
  {
   "cell_type": "markdown",
   "metadata": {},
   "source": [
    "Conclusion: Si le enviara estímulo a todos, se **pierden**  120.5 millones de pesos"
   ]
  },
  {
   "cell_type": "markdown",
   "metadata": {},
   "source": [
    "### Ganancias de predicados univariados"
   ]
  },
  {
   "cell_type": "markdown",
   "metadata": {},
   "source": [
    "Calculo la ganancia de un predicado simple *ctrx_quarter < 20*"
   ]
  },
  {
   "cell_type": "code",
   "execution_count": 58,
   "metadata": {},
   "outputs": [
    {
     "data": {
      "text/html": [
       "6104000"
      ],
      "text/latex": [
       "6104000"
      ],
      "text/markdown": [
       "6104000"
      ],
      "text/plain": [
       "[1] 6104000"
      ]
     },
     "metadata": {},
     "output_type": "display_data"
    }
   ],
   "source": [
    "dataset[ctrx_quarter < 10, sum(ganancia)]"
   ]
  },
  {
   "cell_type": "markdown",
   "metadata": {},
   "source": [
    "Ahora  la ganancia de  *ctrx_quarter < 4*"
   ]
  },
  {
   "cell_type": "code",
   "execution_count": 59,
   "metadata": {},
   "outputs": [
    {
     "data": {
      "text/html": [
       "4548000"
      ],
      "text/latex": [
       "4548000"
      ],
      "text/markdown": [
       "4548000"
      ],
      "text/plain": [
       "[1] 4548000"
      ]
     },
     "metadata": {},
     "output_type": "display_data"
    }
   ],
   "source": [
    "dataset[ctrx_quarter < 4, sum(ganancia)]"
   ]
  },
  {
   "cell_type": "markdown",
   "metadata": {},
   "source": [
    "Ahora, en forma brutal e ineficiente, busco donde esta el mejor corte de ctrx_quarter \n",
    "<br>\n",
    "Ya resolveremos esto en forma inteligente más adelante"
   ]
  },
  {
   "cell_type": "code",
   "execution_count": 60,
   "metadata": {},
   "outputs": [
    {
     "name": "stdout",
     "output_type": "stream",
     "text": [
      "0 0 \n",
      "1 3252000 \n",
      "2 3857000 \n",
      "3 4149000 \n",
      "4 4548000 \n",
      "5 4842000 \n",
      "6 5234000 \n",
      "7 5640000 \n",
      "8 5713000 \n",
      "9 6016000 \n",
      "10 6104000 \n",
      "11 6506000 \n",
      "12 6576000 \n",
      "13 6738000 \n",
      "14 6632000 \n",
      "15 6493000 \n",
      "16 6257000 \n",
      "17 6199000 \n",
      "18 6667000 \n",
      "19 6880000 \n",
      "20 7071000 \n",
      "21 6949000 \n",
      "22 6588000 \n",
      "23 6605000 \n",
      "24 6384000 \n",
      "25 6447000 \n",
      "26 6191000 \n",
      "27 6059000 \n",
      "28 5724000 \n",
      "29 5377000 \n",
      "30 5229000 \n",
      "31 5016000 \n",
      "32 4697000 \n",
      "33 4105000 \n",
      "34 3677000 \n",
      "35 3153000 \n",
      "36 2604000 \n",
      "37 2081000 \n",
      "38 1499000 \n",
      "39 836000 \n",
      "40 579000 \n",
      "41 134000 \n",
      "42 -615000 \n",
      "43 -1119000 \n",
      "44 -1748000 \n",
      "45 -2503000 \n",
      "46 -3157000 \n",
      "47 -3804000 \n",
      "48 -4546000 \n",
      "49 -5208000 \n",
      "50 -5687000 \n"
     ]
    }
   ],
   "source": [
    "for(transacciones in  0:50)\n",
    "{\n",
    "   cat(transacciones, dataset[ctrx_quarter < transacciones, sum(ganancia)], \"\\n\")    \n",
    "}"
   ]
  },
  {
   "cell_type": "markdown",
   "metadata": {},
   "source": [
    "Observo que el predicado ctrx_quarter < 20 tiene la máxima ganancia"
   ]
  },
  {
   "cell_type": "markdown",
   "metadata": {},
   "source": [
    "### Ganancias de predicado complejo"
   ]
  },
  {
   "cell_type": "code",
   "execution_count": 61,
   "metadata": {},
   "outputs": [
    {
     "data": {
      "text/html": [
       "7179000"
      ],
      "text/latex": [
       "7179000"
      ],
      "text/markdown": [
       "7179000"
      ],
      "text/plain": [
       "[1] 7179000"
      ]
     },
     "metadata": {},
     "output_type": "display_data"
    }
   ],
   "source": [
    "dataset[ctrx_quarter < 20 & mpasivos_margen < 29.8 , sum(ganancia)]"
   ]
  },
  {
   "cell_type": "markdown",
   "metadata": {},
   "source": [
    "¡Enhorabuena! hemos alcanzado los 7.18 M de ganancia"
   ]
  },
  {
   "cell_type": "markdown",
   "metadata": {},
   "source": [
    "### Gráficos de densidades"
   ]
  },
  {
   "cell_type": "markdown",
   "metadata": {},
   "source": [
    "Visualización de la densidad de una variable versus clase_ternaria"
   ]
  },
  {
   "cell_type": "code",
   "execution_count": 73,
   "metadata": {},
   "outputs": [
    {
     "data": {
      "image/png": "[encoded data removed]",
      "text/plain": [
       "plot without title"
      ]
     },
     "metadata": {},
     "output_type": "display_data"
    }
   ],
   "source": [
    "campo <- \"cliente_antiguedad\" \n",
    "dataset %>%\n",
    "ggplot(aes_string(x = campo)) + geom_density(trim=TRUE, na.rm=TRUE) + facet_grid( \"clase_ternaria~ .\") +\n",
    "labs(title = \"Densidad de clase_ternaria segun la antiguedad del cliente\", x = \"Antiguedad del cliente en meses\", y = \"Densidad\") +\n",
    "theme(\n",
    "plot.title = element_text(color = \"red\", size = 15, face = \"bold.italic\"),\n",
    "axis.title.x = element_text(color = \"blue\", size = 14, face = \"bold\"),\n",
    "axis.title.y = element_text(color = \"blue\", size = 14, face = \"bold\")\n",
    ")"
   ]
  },
  {
   "cell_type": "markdown",
   "metadata": {},
   "source": [
    "los gráficos salen muy pequeños, busco la documentacion https://blog.revolutionanalytics.com/2015/09/resizing-plots-in-the-r-kernel-for-jupyter-notebooks.html  y agrando los graficos"
   ]
  },
  {
   "cell_type": "code",
   "execution_count": 74,
   "metadata": {},
   "outputs": [],
   "source": [
    "options(repr.plot.width=15, repr.plot.height=15)"
   ]
  },
  {
   "cell_type": "code",
   "execution_count": 77,
   "metadata": {},
   "outputs": [
    {
     "data": {
      "image/png": "[encoded data removed]",
      "text/plain": [
       "plot without title"
      ]
     },
     "metadata": {},
     "output_type": "display_data"
    }
   ],
   "source": [
    "campo <- \"cliente_antiguedad\" \n",
    "dataset %>%\n",
    "ggplot(aes_string(x = campo)) + geom_density(trim=TRUE, na.rm=TRUE) + facet_grid( \"clase_ternaria~ .\") +\n",
    "labs(title = \"Densidad de clase_ternaria segun la antiguedad del cliente\", x = \"Antiguedad del cliente en meses\", y = \"Densidad\") +\n",
    "theme(\n",
    "plot.title = element_text(color = \"red\", size = 20, face = \"bold.italic\"),\n",
    "axis.title.x = element_text(color = \"blue\", size = 18, face = \"bold\"),\n",
    "axis.title.y = element_text(color = \"blue\", size = 18, face = \"bold\")\n",
    ")"
   ]
  },
  {
   "cell_type": "code",
   "execution_count": null,
   "metadata": {},
   "outputs": [],
   "source": []
  }
 ],
 "metadata": {
  "kernelspec": {
   "display_name": "R",
   "language": "R",
   "name": "ir"
  },
  "language_info": {
   "codemirror_mode": "r",
   "file_extension": ".r",
   "mimetype": "text/x-r-source",
   "name": "R",
   "pygments_lexer": "r",
   "version": "3.6.1"
  }
 },
 "nbformat": 4,
 "nbformat_minor": 4
}
