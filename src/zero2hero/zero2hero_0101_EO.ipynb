{
 "cells": [
  {
   "cell_type": "markdown",
   "metadata": {},
   "source": [
    "# Zero to Hero"
   ]
  },
  {
   "cell_type": "markdown",
   "metadata": {},
   "source": [
    "# 1 Arranque rápido"
   ]
  },
  {
   "cell_type": "markdown",
   "metadata": {},
   "source": [
    "En el capítulo 1 se hará un recorrido por las principales componentes del lenguaje R mínimos necesarios para resolver el problema de la asignatura, justificando las elecciones tomadas.\n",
    "<br>\n",
    "No es la idea de estos notebooks ser un manual del lenguaje R ni tampoco de los paquetes."
   ]
  },
  {
   "cell_type": "markdown",
   "metadata": {},
   "source": [
    "## 1.01  Lectura del dataset"
   ]
  },
  {
   "cell_type": "markdown",
   "metadata": {},
   "source": [
    "Trata sobre la motivacion de utilizar  data.table\n",
    "Simplemente se carga el dataset y se mide el tiempo que demora, el que es extremadamente alto e inexplicable."
   ]
  },
  {
   "cell_type": "code",
   "execution_count": 1,
   "metadata": {},
   "outputs": [],
   "source": [
    "setwd(\"C:\\\\Users\\\\oliva\\\\OneDrive\\\\Desktop\\\\DS\\\\Austral\\\\08 - Labo1\\\\labo\")  #se establece el directorio de trabajo"
   ]
  },
  {
   "cell_type": "markdown",
   "metadata": {},
   "source": [
    "Ahora vamos a cargar el dataframe como en R Base, tradicional, pero vamos a medir el tiempo\n",
    "para conocer la hora actual utilizo la fucion de R  Sys.time\n",
    "y para calcular la diferencia utilizo as.numeric(  t1 - t0, units = \"secs\")  convirtiéndolo a segundos"
   ]
  },
  {
   "cell_type": "markdown",
   "metadata": {},
   "source": [
    "Primero veo que hace la funcion  Sys.time()"
   ]
  },
  {
   "cell_type": "code",
   "execution_count": 2,
   "metadata": {},
   "outputs": [
    {
     "data": {
      "text/plain": [
       "[1] \"2022-04-03 13:25:36 -03\""
      ]
     },
     "metadata": {},
     "output_type": "display_data"
    }
   ],
   "source": [
    "Sys.time()"
   ]
  },
  {
   "cell_type": "markdown",
   "metadata": {},
   "source": [
    "devuelve fecha, hora  y huso horario  ( -03 para el caso de Argentina)\n",
    "<br>\n",
    "Leyendo la documentación  en  https://www.rdocumentation.org/packages/base/versions/3.6.2/topics/Sys.time    veo que la precisión es de 1/60 segundos,  lo cual para el tipo de medidas que tomaremos es más que suficiente."
   ]
  },
  {
   "cell_type": "code",
   "execution_count": 3,
   "metadata": {},
   "outputs": [
    {
     "name": "stdout",
     "output_type": "stream",
     "text": [
      "[1] 13.73005\n"
     ]
    }
   ],
   "source": [
    "t0  <- Sys.time()\n",
    "dataset <- read.csv(\"./datasets/paquete_premium_202011.csv\")\n",
    "t1  <- Sys.time()\n",
    "delta  <- as.numeric(  t1 - t0, units = \"secs\")  #calculo la diferencia de tiempos\n",
    "print( delta) #imprimo"
   ]
  },
  {
   "cell_type": "markdown",
   "metadata": {},
   "source": [
    "la primer corrida da, en mi máquina,  21.9 segundos !\n",
    "¿Qué tenebrosos cálculos estará haciendo para demorar 21.9 segundos?\n",
    "A lo sumo tiene que leer el archivo dos veces, para determinar si un campo es numerico o character."
   ]
  },
  {
   "cell_type": "markdown",
   "metadata": {},
   "source": [
    "vuelvo a correr lo mismo, quizas hubo un problema de acceso al disco, y hasta quizas esta segunda vez el archivo ya esté en la memoria del sistema operativo"
   ]
  },
  {
   "cell_type": "code",
   "execution_count": 4,
   "metadata": {},
   "outputs": [
    {
     "name": "stdout",
     "output_type": "stream",
     "text": [
      "[1] 9.578531\n"
     ]
    }
   ],
   "source": [
    "t0  <- Sys.time()\n",
    "dataset <- read.csv(\"./datasets/paquete_premium_202011.csv\")\n",
    "t1  <- Sys.time()\n",
    "delta  <- as.numeric(  t1 - t0, units = \"secs\")  #calculo la diferencia de tiempos\n",
    "print(delta) #imprimo"
   ]
  },
  {
   "cell_type": "markdown",
   "metadata": {},
   "source": [
    "la segunda corrida da, en mi máquina,  15.7 segundos !"
   ]
  },
  {
   "cell_type": "markdown",
   "metadata": {},
   "source": [
    "Se busca bibliografía sobre que alternativa hay al manejo de dataframes del R Base\n",
    "<br>\n",
    "Aparecen varias alternativas, benchmarks muestran la superioridad de data.table\n",
    "<br>\n",
    "Pasamos a probar la libreria  data.table a ver si los becnmarks están en lo cierto, o es solo marketing\n",
    "<br>\n",
    "Si no se tiene instalada la libreria,  instalarla primero con  **install.packages( \"data.table\", dependencies=TRUE )**"
   ]
  },
  {
   "cell_type": "code",
   "execution_count": 6,
   "metadata": {},
   "outputs": [
    {
     "name": "stderr",
     "output_type": "stream",
     "text": [
      "also installing the dependencies 'fastmap', 'fs', 'R6', 'rappdirs', 'glue', 'magrittr', 'stringi', 'htmltools', 'sass', 'rlang', 'R.oo', 'R.methodsS3', 'RcppCCTZ', 'RcppDate', 'lattice', 'evaluate', 'highr', 'stringr', 'xfun', 'bslib', 'jquerylib', 'tinytex', 'bit64', 'bit', 'curl', 'R.utils', 'xts', 'nanotime', 'zoo', 'yaml', 'knitr', 'rmarkdown'\n",
      "\n"
     ]
    },
    {
     "name": "stdout",
     "output_type": "stream",
     "text": [
      "\n",
      "  There are binary versions available but the source versions are later:\n",
      "            binary  source needs_compilation\n",
      "fs           1.5.0   1.5.2              TRUE\n",
      "R6           2.5.0   2.5.1             FALSE\n",
      "glue         1.4.2   1.6.2              TRUE\n",
      "magrittr     2.0.1   2.0.3              TRUE\n",
      "stringi      1.6.1   1.7.6              TRUE\n",
      "htmltools  0.5.1.1   0.5.2              TRUE\n",
      "sass         0.4.0   0.4.1              TRUE\n",
      "rlang       0.4.11   1.0.2              TRUE\n",
      "RcppCCTZ     0.2.9  0.2.10              TRUE\n",
      "RcppDate     0.0.2   0.0.3             FALSE\n",
      "lattice    0.20-44 0.20-45              TRUE\n",
      "evaluate      0.14    0.15             FALSE\n",
      "xfun          0.22    0.30              TRUE\n",
      "bslib        0.2.4   0.3.1             FALSE\n",
      "tinytex       0.31    0.38             FALSE\n",
      "curl         4.3.1   4.3.2              TRUE\n",
      "R.utils     2.10.1  2.11.0             FALSE\n",
      "nanotime     0.3.2   0.3.6              TRUE\n",
      "yaml         2.2.1   2.3.5              TRUE\n",
      "knitr         1.33    1.38             FALSE\n",
      "rmarkdown      2.8    2.13             FALSE\n",
      "data.table  1.14.0  1.14.2              TRUE\n",
      "\n",
      "  Binaries will be installed\n",
      "package 'fastmap' successfully unpacked and MD5 sums checked\n",
      "package 'fs' successfully unpacked and MD5 sums checked\n",
      "package 'rappdirs' successfully unpacked and MD5 sums checked\n",
      "package 'glue' successfully unpacked and MD5 sums checked\n",
      "package 'magrittr' successfully unpacked and MD5 sums checked\n",
      "package 'stringi' successfully unpacked and MD5 sums checked\n",
      "package 'htmltools' successfully unpacked and MD5 sums checked\n",
      "package 'sass' successfully unpacked and MD5 sums checked\n",
      "package 'rlang' successfully unpacked and MD5 sums checked\n",
      "package 'R.oo' successfully unpacked and MD5 sums checked\n",
      "package 'R.methodsS3' successfully unpacked and MD5 sums checked\n",
      "package 'RcppCCTZ' successfully unpacked and MD5 sums checked\n",
      "package 'lattice' successfully unpacked and MD5 sums checked\n",
      "package 'highr' successfully unpacked and MD5 sums checked\n",
      "package 'stringr' successfully unpacked and MD5 sums checked\n",
      "package 'xfun' successfully unpacked and MD5 sums checked\n",
      "package 'jquerylib' successfully unpacked and MD5 sums checked\n",
      "package 'bit64' successfully unpacked and MD5 sums checked\n",
      "package 'bit' successfully unpacked and MD5 sums checked\n",
      "package 'curl' successfully unpacked and MD5 sums checked\n",
      "package 'xts' successfully unpacked and MD5 sums checked\n",
      "package 'nanotime' successfully unpacked and MD5 sums checked\n",
      "package 'zoo' successfully unpacked and MD5 sums checked\n",
      "package 'yaml' successfully unpacked and MD5 sums checked\n",
      "package 'data.table' successfully unpacked and MD5 sums checked\n",
      "\n",
      "The downloaded binary packages are in\n",
      "\tC:\\Users\\oliva\\AppData\\Local\\Temp\\Rtmpmck2mZ\\downloaded_packages\n"
     ]
    },
    {
     "name": "stderr",
     "output_type": "stream",
     "text": [
      "installing the source packages 'R6', 'RcppDate', 'evaluate', 'bslib', 'tinytex', 'R.utils', 'knitr', 'rmarkdown'\n",
      "\n",
      "Warning message in install.packages(\"data.table\", dependencies = TRUE):\n",
      "\"installation of package 'bslib' had non-zero exit status\"Warning message in install.packages(\"data.table\", dependencies = TRUE):\n",
      "\"installation of package 'tinytex' had non-zero exit status\"Warning message in install.packages(\"data.table\", dependencies = TRUE):\n",
      "\"installation of package 'knitr' had non-zero exit status\"Warning message in install.packages(\"data.table\", dependencies = TRUE):\n",
      "\"installation of package 'rmarkdown' had non-zero exit status\""
     ]
    }
   ],
   "source": [
    "install.packages(\"data.table\", dependencies = TRUE)"
   ]
  },
  {
   "cell_type": "code",
   "execution_count": 7,
   "metadata": {},
   "outputs": [
    {
     "name": "stderr",
     "output_type": "stream",
     "text": [
      "Warning message:\n",
      "\"package 'data.table' was built under R version 3.6.3\""
     ]
    }
   ],
   "source": [
    "library( \"data.table\")   #cargo la libreria  data.table"
   ]
  },
  {
   "cell_type": "code",
   "execution_count": 8,
   "metadata": {},
   "outputs": [
    {
     "name": "stdout",
     "output_type": "stream",
     "text": [
      "[1] 0.410903\n"
     ]
    }
   ],
   "source": [
    "t0  <- Sys.time()\n",
    "dataset <- fread(\"./datasets/paquete_premium_202011.csv\")\n",
    "t1  <- Sys.time()\n",
    "delta  <- as.numeric(  t1 - t0, units = \"secs\")  #calculo la diferencia de tiempos\n",
    "print(delta) #imprimo"
   ]
  },
  {
   "cell_type": "markdown",
   "metadata": {},
   "source": [
    "la primer corrida da  1.4 segundos"
   ]
  },
  {
   "cell_type": "markdown",
   "metadata": {},
   "source": [
    "Hagamos una segunda corrida"
   ]
  },
  {
   "cell_type": "code",
   "execution_count": 9,
   "metadata": {},
   "outputs": [
    {
     "name": "stdout",
     "output_type": "stream",
     "text": [
      "[1] 0.757956\n"
     ]
    }
   ],
   "source": [
    "t0  <- Sys.time()\n",
    "dataset <- fread(\"./datasets/paquete_premium_202011.csv\")\n",
    "t1  <- Sys.time()\n",
    "delta  <- as.numeric(  t1 - t0, units = \"secs\")  #calculo la diferencia de tiempos\n",
    "print(delta) #imprimo"
   ]
  },
  {
   "cell_type": "markdown",
   "metadata": {},
   "source": [
    "la segunda corrida da  0.73 segundos"
   ]
  },
  {
   "cell_type": "markdown",
   "metadata": {},
   "source": [
    "La diferencia es alrededor de 20 a 1\n",
    "<br>\n",
    "Ciertamente leer un dataset es una tarea que se hace unicamente al comienzo de los programas, pero se lee en la bibligrafía que data.table funciona más rápido para *todas* las operaciones sobre datasets, lo que se confirmará en los siguientes capítulos."
   ]
  },
  {
   "cell_type": "code",
   "execution_count": 11,
   "metadata": {},
   "outputs": [
    {
     "name": "stdout",
     "output_type": "stream",
     "text": [
      "[1] \"Es una verdadera pena que los fans de tidyverse no exploren data.table, así como en Python que pandas sea tan mansamente aceptada.\"\n"
     ]
    }
   ],
   "source": [
    "print(\"Es una verdadera pena que los fans de tidyverse no exploren data.table, así como en Python que pandas sea tan mansamente aceptada.\")"
   ]
  },
  {
   "cell_type": "code",
   "execution_count": null,
   "metadata": {},
   "outputs": [],
   "source": []
  }
 ],
 "metadata": {
  "kernelspec": {
   "display_name": "R",
   "language": "R",
   "name": "ir"
  },
  "language_info": {
   "codemirror_mode": "r",
   "file_extension": ".r",
   "mimetype": "text/x-r-source",
   "name": "R",
   "pygments_lexer": "r",
   "version": "3.6.1"
  }
 },
 "nbformat": 4,
 "nbformat_minor": 4
}
