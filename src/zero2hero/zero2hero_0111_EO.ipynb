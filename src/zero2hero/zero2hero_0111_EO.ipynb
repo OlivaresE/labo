{
 "cells": [
  {
   "cell_type": "markdown",
   "metadata": {},
   "source": [
    "# Zero to Hero"
   ]
  },
  {
   "cell_type": "markdown",
   "metadata": {},
   "source": [
    "## 1.11 Arbol training/testing"
   ]
  },
  {
   "cell_type": "markdown",
   "metadata": {},
   "source": [
    "El objetivo es calcular la ganancia en testing de un arbol de decision"
   ]
  },
  {
   "cell_type": "code",
   "execution_count": 5,
   "metadata": {},
   "outputs": [],
   "source": [
    "options(warn=-1)"
   ]
  },
  {
   "cell_type": "code",
   "execution_count": 6,
   "metadata": {},
   "outputs": [
    {
     "data": {
      "text/html": [
       "<table>\n",
       "<thead><tr><th></th><th scope=col>used</th><th scope=col>(Mb)</th><th scope=col>gc trigger</th><th scope=col>(Mb)</th><th scope=col>max used</th><th scope=col>(Mb)</th></tr></thead>\n",
       "<tbody>\n",
       "\t<tr><th scope=row>Ncells</th><td>1945483 </td><td>104.0   </td><td> 3661321</td><td>195.6   </td><td> 3661321</td><td>195.6   </td></tr>\n",
       "\t<tr><th scope=row>Vcells</th><td>3253703 </td><td> 24.9   </td><td>33548208</td><td>256.0   </td><td>34834305</td><td>265.8   </td></tr>\n",
       "</tbody>\n",
       "</table>\n"
      ],
      "text/latex": [
       "\\begin{tabular}{r|llllll}\n",
       "  & used & (Mb) & gc trigger & (Mb) & max used & (Mb)\\\\\n",
       "\\hline\n",
       "\tNcells & 1945483  & 104.0    &  3661321 & 195.6    &  3661321 & 195.6   \\\\\n",
       "\tVcells & 3253703  &  24.9    & 33548208 & 256.0    & 34834305 & 265.8   \\\\\n",
       "\\end{tabular}\n"
      ],
      "text/markdown": [
       "\n",
       "| <!--/--> | used | (Mb) | gc trigger | (Mb) | max used | (Mb) |\n",
       "|---|---|---|---|---|---|---|\n",
       "| Ncells | 1945483  | 104.0    |  3661321 | 195.6    |  3661321 | 195.6    |\n",
       "| Vcells | 3253703  |  24.9    | 33548208 | 256.0    | 34834305 | 265.8    |\n",
       "\n"
      ],
      "text/plain": [
       "       used    (Mb)  gc trigger (Mb)  max used (Mb) \n",
       "Ncells 1945483 104.0  3661321   195.6  3661321 195.6\n",
       "Vcells 3253703  24.9 33548208   256.0 34834305 265.8"
      ]
     },
     "metadata": {},
     "output_type": "display_data"
    }
   ],
   "source": [
    "rm(list=ls())\n",
    "gc()\n",
    "\n",
    "library( \"data.table\")   #cargo la libreria  data.table\n",
    "library( \"rpart\")  #cargo la libreria  rpart\n",
    "library( \"rpart.plot\")\n",
    "library(\"caret\")"
   ]
  },
  {
   "cell_type": "code",
   "execution_count": 7,
   "metadata": {},
   "outputs": [],
   "source": [
    "options(repr.plot.width=20, repr.plot.height=10) \n",
    "setwd(\"C:\\\\Users\\\\oliva\\\\OneDrive\\\\Desktop\\\\DS\\\\Austral\\\\08 - Labo1\") #Aqui se debe poner la ruta de la PC local"
   ]
  },
  {
   "cell_type": "code",
   "execution_count": 8,
   "metadata": {},
   "outputs": [],
   "source": [
    "dataset <- fread(\"./labo/datasets/paquete_premium_202011.csv\")   #cargo el dataset"
   ]
  },
  {
   "cell_type": "code",
   "execution_count": 22,
   "metadata": {},
   "outputs": [
    {
     "data": {
      "text/html": [
       "<table>\n",
       "<thead><tr><th scope=col>clase_ternaria</th><th scope=col>N</th></tr></thead>\n",
       "<tbody>\n",
       "\t<tr><td>CONTINUA</td><td>110761  </td></tr>\n",
       "\t<tr><td>BAJA+1  </td><td>   358  </td></tr>\n",
       "\t<tr><td>BAJA+2  </td><td>   454  </td></tr>\n",
       "</tbody>\n",
       "</table>\n"
      ],
      "text/latex": [
       "\\begin{tabular}{r|ll}\n",
       " clase\\_ternaria & N\\\\\n",
       "\\hline\n",
       "\t CONTINUA & 110761  \\\\\n",
       "\t BAJA+1   &    358  \\\\\n",
       "\t BAJA+2   &    454  \\\\\n",
       "\\end{tabular}\n"
      ],
      "text/markdown": [
       "\n",
       "| clase_ternaria | N |\n",
       "|---|---|\n",
       "| CONTINUA | 110761   |\n",
       "| BAJA+1   |    358   |\n",
       "| BAJA+2   |    454   |\n",
       "\n"
      ],
      "text/plain": [
       "  clase_ternaria N     \n",
       "1 CONTINUA       110761\n",
       "2 BAJA+1            358\n",
       "3 BAJA+2            454"
      ]
     },
     "metadata": {},
     "output_type": "display_data"
    },
    {
     "data": {
      "text/html": [
       "<table>\n",
       "<thead><tr><th scope=col>clase_ternaria</th><th scope=col>N</th></tr></thead>\n",
       "<tbody>\n",
       "\t<tr><td>CONTINUA</td><td>47468   </td></tr>\n",
       "\t<tr><td>BAJA+1  </td><td>  153   </td></tr>\n",
       "\t<tr><td>BAJA+2  </td><td>  194   </td></tr>\n",
       "</tbody>\n",
       "</table>\n"
      ],
      "text/latex": [
       "\\begin{tabular}{r|ll}\n",
       " clase\\_ternaria & N\\\\\n",
       "\\hline\n",
       "\t CONTINUA & 47468   \\\\\n",
       "\t BAJA+1   &   153   \\\\\n",
       "\t BAJA+2   &   194   \\\\\n",
       "\\end{tabular}\n"
      ],
      "text/markdown": [
       "\n",
       "| clase_ternaria | N |\n",
       "|---|---|\n",
       "| CONTINUA | 47468    |\n",
       "| BAJA+1   |   153    |\n",
       "| BAJA+2   |   194    |\n",
       "\n"
      ],
      "text/plain": [
       "  clase_ternaria N    \n",
       "1 CONTINUA       47468\n",
       "2 BAJA+1           153\n",
       "3 BAJA+2           194"
      ]
     },
     "metadata": {},
     "output_type": "display_data"
    }
   ],
   "source": [
    "#creo training con 70%  y testing con 30%\n",
    "set.seed(13)\n",
    "train_rows <- createDataPartition(dataset$clase_ternaria, p = 0.70, list = FALSE)\n",
    "dtrain  <- dataset[ train_rows]\n",
    "dtest  <-  dataset[ -train_rows]\n",
    "dtrain[, .N, clase_ternaria]\n",
    "dtest[, .N, clase_ternaria]"
   ]
  },
  {
   "cell_type": "markdown",
   "metadata": {},
   "source": [
    "##### ¿Por qué 70/30?\n",
    "https://scholarworks.utep.edu/cgi/viewcontent.cgi?article=2202&context=cs_techrep"
   ]
  },
  {
   "cell_type": "markdown",
   "metadata": {},
   "source": [
    "### Entrenamiento"
   ]
  },
  {
   "cell_type": "code",
   "execution_count": 10,
   "metadata": {},
   "outputs": [],
   "source": [
    "param  <- list(\"cp\"= -0.5,\n",
    "               \"minsplit\"=  900,\n",
    "               \"minbucket\"= 440,\n",
    "               \"maxdepth\"= 5\n",
    "              )"
   ]
  },
  {
   "cell_type": "markdown",
   "metadata": {},
   "source": [
    "Entreno el modelo en los datos de training"
   ]
  },
  {
   "cell_type": "code",
   "execution_count": 13,
   "metadata": {},
   "outputs": [],
   "source": [
    "#genero el modelo\n",
    "modelo <-  rpart(formula = \"clase_ternaria ~ .\",\n",
    "                        data = dtrain,\n",
    "                        xval = 0, #no cross validation\n",
    "                        control = param)"
   ]
  },
  {
   "cell_type": "markdown",
   "metadata": {},
   "source": [
    "Aplico el modelo a los datos de testing"
   ]
  },
  {
   "cell_type": "code",
   "execution_count": 16,
   "metadata": {},
   "outputs": [
    {
     "data": {
      "text/html": [
       "<table>\n",
       "<thead><tr><th scope=col>BAJA+1</th><th scope=col>BAJA+2</th><th scope=col>CONTINUA</th></tr></thead>\n",
       "<tbody>\n",
       "\t<tr><td>3.693785e-04</td><td>1.015791e-03</td><td>0.9986148   </td></tr>\n",
       "\t<tr><td>5.291705e-05</td><td>2.645853e-05</td><td>0.9999206   </td></tr>\n",
       "\t<tr><td>1.488982e-04</td><td>7.444908e-04</td><td>0.9991066   </td></tr>\n",
       "\t<tr><td>2.256264e-03</td><td>3.443772e-03</td><td>0.9943000   </td></tr>\n",
       "\t<tr><td>3.693785e-04</td><td>1.015791e-03</td><td>0.9986148   </td></tr>\n",
       "\t<tr><td>1.040989e-02</td><td>1.886792e-02</td><td>0.9707222   </td></tr>\n",
       "</tbody>\n",
       "</table>\n"
      ],
      "text/latex": [
       "\\begin{tabular}{r|lll}\n",
       " BAJA+1 & BAJA+2 & CONTINUA\\\\\n",
       "\\hline\n",
       "\t 3.693785e-04 & 1.015791e-03 & 0.9986148   \\\\\n",
       "\t 5.291705e-05 & 2.645853e-05 & 0.9999206   \\\\\n",
       "\t 1.488982e-04 & 7.444908e-04 & 0.9991066   \\\\\n",
       "\t 2.256264e-03 & 3.443772e-03 & 0.9943000   \\\\\n",
       "\t 3.693785e-04 & 1.015791e-03 & 0.9986148   \\\\\n",
       "\t 1.040989e-02 & 1.886792e-02 & 0.9707222   \\\\\n",
       "\\end{tabular}\n"
      ],
      "text/markdown": [
       "\n",
       "| BAJA+1 | BAJA+2 | CONTINUA |\n",
       "|---|---|---|\n",
       "| 3.693785e-04 | 1.015791e-03 | 0.9986148    |\n",
       "| 5.291705e-05 | 2.645853e-05 | 0.9999206    |\n",
       "| 1.488982e-04 | 7.444908e-04 | 0.9991066    |\n",
       "| 2.256264e-03 | 3.443772e-03 | 0.9943000    |\n",
       "| 3.693785e-04 | 1.015791e-03 | 0.9986148    |\n",
       "| 1.040989e-02 | 1.886792e-02 | 0.9707222    |\n",
       "\n"
      ],
      "text/plain": [
       "  BAJA+1       BAJA+2       CONTINUA \n",
       "1 3.693785e-04 1.015791e-03 0.9986148\n",
       "2 5.291705e-05 2.645853e-05 0.9999206\n",
       "3 1.488982e-04 7.444908e-04 0.9991066\n",
       "4 2.256264e-03 3.443772e-03 0.9943000\n",
       "5 3.693785e-04 1.015791e-03 0.9986148\n",
       "6 1.040989e-02 1.886792e-02 0.9707222"
      ]
     },
     "metadata": {},
     "output_type": "display_data"
    }
   ],
   "source": [
    "prediccion <- predict(modelo, dtest, type = \"prob\")\n",
    "head(prediccion)"
   ]
  },
  {
   "cell_type": "markdown",
   "metadata": {},
   "source": [
    "### Calculo la ganancia del modelo en los datos de testing"
   ]
  },
  {
   "cell_type": "markdown",
   "metadata": {},
   "source": [
    "A partir de la prediccion, calculo la probabilidad de BAJA+2 de cada registro de testing  **dtest**"
   ]
  },
  {
   "cell_type": "code",
   "execution_count": 15,
   "metadata": {},
   "outputs": [
    {
     "data": {
      "text/html": [
       "<dl class=dl-horizontal>\n",
       "\t<dt>1</dt>\n",
       "\t\t<dd>0.00101579093175732</dd>\n",
       "\t<dt>2</dt>\n",
       "\t\t<dd>2.64585262600873e-05</dd>\n",
       "\t<dt>3</dt>\n",
       "\t\t<dd>0.000744490768314473</dd>\n",
       "\t<dt>4</dt>\n",
       "\t\t<dd>0.00344377152357202</dd>\n",
       "\t<dt>5</dt>\n",
       "\t\t<dd>0.00101579093175732</dd>\n",
       "\t<dt>6</dt>\n",
       "\t\t<dd>0.0188679245283019</dd>\n",
       "</dl>\n"
      ],
      "text/latex": [
       "\\begin{description*}\n",
       "\\item[1] 0.00101579093175732\n",
       "\\item[2] 2.64585262600873e-05\n",
       "\\item[3] 0.000744490768314473\n",
       "\\item[4] 0.00344377152357202\n",
       "\\item[5] 0.00101579093175732\n",
       "\\item[6] 0.0188679245283019\n",
       "\\end{description*}\n"
      ],
      "text/markdown": [
       "1\n",
       ":   0.001015790931757322\n",
       ":   2.64585262600873e-053\n",
       ":   0.0007444907683144734\n",
       ":   0.003443771523572025\n",
       ":   0.001015790931757326\n",
       ":   0.0188679245283019\n",
       "\n"
      ],
      "text/plain": [
       "           1            2            3            4            5            6 \n",
       "1.015791e-03 2.645853e-05 7.444908e-04 3.443772e-03 1.015791e-03 1.886792e-02 "
      ]
     },
     "metadata": {},
     "output_type": "display_data"
    }
   ],
   "source": [
    "prob_baja2  <- prediccion[, \"BAJA+2\"]\n",
    "head(prob_baja2)"
   ]
  },
  {
   "cell_type": "markdown",
   "metadata": {},
   "source": [
    "Para el cálculo de la ganancia del modelo aplicado a testing debo tener en cuenta lo siguiente\n",
    "* Solo envio estimulo a los registros que el modelo asigno una probabilidad mayor a 1/60\n",
    "* Si no envio estimulo, no gano ni pierdo, es decir la ganacia es cero\n",
    "* Si el registro al que envio el estímulo es un **BAJA+2**  entonces la ganancia es de +59000\n",
    "* Si el registro al que envio el estímulo es un **BAJA+1**  entonces la ganancia es de  -1000\n",
    "* Si el registro al que envio el estímulo es un **CONTINUA** entonces la ganancia es de  -1000"
   ]
  },
  {
   "cell_type": "markdown",
   "metadata": {},
   "source": [
    "A la condición que solo envio a los registros con probabilidad mayor a 1/60 la resuelvo con la condicion lógica  (prob_baja2> 1/60)\n",
    "<br>\n",
    "Esta condicion termina siendo un 0 o un 1\n",
    "<br>\n",
    "vale 1 si y solo si se cumple la condicion, es decir  si prob_baja2 es mayor a 1/60"
   ]
  },
  {
   "cell_type": "markdown",
   "metadata": {},
   "source": [
    "La ganancia de +59000 o -1000 la resuelvo de esta forma ifelse(clase_ternaria==\"BAJA+2\", 59000, -1000) -Esto se lee: ¿es clase ternaria igual a baja+2? Sí, entonces asignar 59000. No, entonces asignar -1000"
   ]
  },
  {
   "cell_type": "markdown",
   "metadata": {},
   "source": [
    "Finalmente,  que se cumplan ambas condiciones al mismo tiempo, en este caso, es multiplicarlas, o sea\n",
    "<br>\n",
    "(prob_baja2>1/60) * ifelse( clase_ternaria==\"BAJA+2\", 59000, -1000)\n",
    "<br>\n",
    "La condicion anterior toma los siguientes valores"
   ]
  },
  {
   "cell_type": "markdown",
   "metadata": {},
   "source": [
    "| prob(BAJA+2) | clase_ternaria | ganancia |\n",
    "| --- | :---: | ---: |\n",
    "| menor o igual a 1/60 | BAJA+1 | 0 |\n",
    "| menor o igual a 1/60 | CONTINUA | 0 |\n",
    "| menor o igual a 1/60 | BAJA+2 | 0 |\n",
    "| mayor a 1/60 | BAJA+1 | -1000 |\n",
    "| mayor a 1/60 | CONTINUA | -1000 |\n",
    "| mayor a 1/60 | BAJA+2 | 59000 |\n"
   ]
  },
  {
   "cell_type": "markdown",
   "metadata": {},
   "source": [
    "Finalmente hago el calculo en data.table"
   ]
  },
  {
   "cell_type": "code",
   "execution_count": 23,
   "metadata": {},
   "outputs": [],
   "source": [
    "ganancia_testing <- dtest[ , sum((prob_baja2>1/60) * ifelse(clase_ternaria == \"BAJA+2\", 59000, -1000))]"
   ]
  },
  {
   "cell_type": "code",
   "execution_count": 24,
   "metadata": {},
   "outputs": [
    {
     "data": {
      "text/html": [
       "3648000"
      ],
      "text/latex": [
       "3648000"
      ],
      "text/markdown": [
       "3648000"
      ],
      "text/plain": [
       "[1] 3648000"
      ]
     },
     "metadata": {},
     "output_type": "display_data"
    }
   ],
   "source": [
    "ganancia_testing"
   ]
  },
  {
   "cell_type": "markdown",
   "metadata": {},
   "source": [
    "Es importante que la ganancia esta calculada sobre los datos de testing, que en este caso son apenas el 30%\n",
    "<br>\n",
    "Si quiero extrapolar a todo el dataset, debo hacer el **cociente** de esa ganancia por 0.30   ( coloquialmente, debo dividir por 0.30 )"
   ]
  },
  {
   "cell_type": "code",
   "execution_count": 25,
   "metadata": {},
   "outputs": [],
   "source": [
    "ganancia_testing_normalizada  <-  ganancia_testing/0.3"
   ]
  },
  {
   "cell_type": "code",
   "execution_count": 26,
   "metadata": {},
   "outputs": [
    {
     "data": {
      "text/html": [
       "12160000"
      ],
      "text/latex": [
       "12160000"
      ],
      "text/markdown": [
       "12160000"
      ],
      "text/plain": [
       "[1] 12160000"
      ]
     },
     "metadata": {},
     "output_type": "display_data"
    }
   ],
   "source": [
    "ganancia_testing_normalizada"
   ]
  }
 ],
 "metadata": {
  "kernelspec": {
   "display_name": "R",
   "language": "R",
   "name": "ir"
  },
  "language_info": {
   "codemirror_mode": "r",
   "file_extension": ".r",
   "mimetype": "text/x-r-source",
   "name": "R",
   "pygments_lexer": "r",
   "version": "3.6.1"
  }
 },
 "nbformat": 4,
 "nbformat_minor": 4
}
