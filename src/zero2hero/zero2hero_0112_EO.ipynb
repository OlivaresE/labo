{
 "cells": [
  {
   "cell_type": "markdown",
   "metadata": {},
   "source": [
    "# Zero to Hero"
   ]
  },
  {
   "cell_type": "markdown",
   "metadata": {},
   "source": [
    "## 1.12 Funcion de Ganancia de Arbol training/testing"
   ]
  },
  {
   "cell_type": "markdown",
   "metadata": {},
   "source": [
    "El objetivo es poner el notebook anterior dentro de una funcion, e invocarla con distintas semillas, para maravillarnos ante la dispersion de las ganancias"
   ]
  },
  {
   "cell_type": "code",
   "execution_count": 2,
   "metadata": {},
   "outputs": [],
   "source": [
    "options(warn=-1)"
   ]
  },
  {
   "cell_type": "code",
   "execution_count": 3,
   "metadata": {},
   "outputs": [
    {
     "data": {
      "text/html": [
       "<table>\n",
       "<thead><tr><th></th><th scope=col>used</th><th scope=col>(Mb)</th><th scope=col>gc trigger</th><th scope=col>(Mb)</th><th scope=col>max used</th><th scope=col>(Mb)</th></tr></thead>\n",
       "<tbody>\n",
       "\t<tr><th scope=row>Ncells</th><td>1941868</td><td>103.8  </td><td>3720028</td><td>198.7  </td><td>3720028</td><td>198.7  </td></tr>\n",
       "\t<tr><th scope=row>Vcells</th><td>3242558</td><td> 24.8  </td><td>8388608</td><td> 64.0  </td><td>5252768</td><td> 40.1  </td></tr>\n",
       "</tbody>\n",
       "</table>\n"
      ],
      "text/latex": [
       "\\begin{tabular}{r|llllll}\n",
       "  & used & (Mb) & gc trigger & (Mb) & max used & (Mb)\\\\\n",
       "\\hline\n",
       "\tNcells & 1941868 & 103.8   & 3720028 & 198.7   & 3720028 & 198.7  \\\\\n",
       "\tVcells & 3242558 &  24.8   & 8388608 &  64.0   & 5252768 &  40.1  \\\\\n",
       "\\end{tabular}\n"
      ],
      "text/markdown": [
       "\n",
       "| <!--/--> | used | (Mb) | gc trigger | (Mb) | max used | (Mb) |\n",
       "|---|---|---|---|---|---|---|\n",
       "| Ncells | 1941868 | 103.8   | 3720028 | 198.7   | 3720028 | 198.7   |\n",
       "| Vcells | 3242558 |  24.8   | 8388608 |  64.0   | 5252768 |  40.1   |\n",
       "\n"
      ],
      "text/plain": [
       "       used    (Mb)  gc trigger (Mb)  max used (Mb) \n",
       "Ncells 1941868 103.8 3720028    198.7 3720028  198.7\n",
       "Vcells 3242558  24.8 8388608     64.0 5252768   40.1"
      ]
     },
     "metadata": {},
     "output_type": "display_data"
    }
   ],
   "source": [
    "rm(list=ls())\n",
    "gc()\n",
    "\n",
    "library( \"data.table\")   #cargo la libreria  data.table\n",
    "library( \"rpart\")  #cargo la libreria  rpart\n",
    "library( \"rpart.plot\")\n",
    "library(\"caret\")"
   ]
  },
  {
   "cell_type": "code",
   "execution_count": 5,
   "metadata": {},
   "outputs": [],
   "source": [
    "options(repr.plot.width = 20, repr.plot.height = 10) \n",
    "setwd(\"C:\\\\Users\\\\oliva\\\\OneDrive\\\\Desktop\\\\DS\\\\Austral\\\\08 - Labo1\") #Aqui se debe poner la ruta de la PC local"
   ]
  },
  {
   "cell_type": "code",
   "execution_count": 7,
   "metadata": {},
   "outputs": [],
   "source": [
    "GananciaArbol  <-  function(semilla, data, x, train=0.70) {\n",
    "  #establezco la semilla\n",
    "  set.seed(semilla)\n",
    "  train_rows <- createDataPartition(dataset$clase_ternaria, p = 0.70, list = FALSE)\n",
    "  \n",
    "  modelo <-  rpart(formula = \"clase_ternaria ~ .\" ,\n",
    "                          data = data[ train_rows],  #los datos de training\n",
    "                          xval = 0, #no cross validation\n",
    "                          control = x)\n",
    "    \n",
    "  #Aplico el modelo a los datos de testing  \n",
    "  prediccion  <- predict(modelo, data[-train_rows], type = \"prob\")\n",
    "  \n",
    "  prob_baja2  <- prediccion[, \"BAJA+2\"]\n",
    "  ganancia_testing <- data[-train_rows, sum((prob_baja2>0.025) * ifelse(clase_ternaria == \"BAJA+2\", 59000, -1000))]\n",
    "  \n",
    "  return(ganancia_testing)\n",
    "}"
   ]
  },
  {
   "cell_type": "markdown",
   "metadata": {},
   "source": [
    "Vale la pena notar que dentro de la funcion no se han creado  dtrain y dtest,  sino que directamente se utilizan:\n",
    "* data[ train_rows]  como training\n",
    "* data[ -train_rows]  como testing\n"
   ]
  },
  {
   "cell_type": "code",
   "execution_count": 22,
   "metadata": {},
   "outputs": [],
   "source": [
    "#Otra funcion con cross validation\n",
    "\n",
    "GananciaArbol2 <- function(seed, df, x){   \n",
    "#Semilla\n",
    "    set.seed(seed)\n",
    "    train_rows <- createDataPartition(dataset$clase_ternaria, \n",
    "                                      p = 0.8, list = FALSE)\n",
    "#Modelo   \n",
    "    model <- rpart(\"formula = clase_ternaria ~ .\",\n",
    "                   data = df[train_rows],\n",
    "                   xval = 5, #5 cross validation,\n",
    "                   control = x\n",
    "                  )\n",
    "#Prediccion\n",
    "    prediccion <- predict(model, df[-train_rows], type = \"prob\"\n",
    "                         )\n",
    "    prob_baja2  <- prediccion[, \"BAJA+2\"]\n",
    "    ganancia_testing <- df[-train_rows, sum((prob_baja2>0.025) * ifelse(clase_ternaria == \"BAJA+2\", 59000, -1000))]\n",
    "  \n",
    "return(ganancia_testing)\n",
    "}\n"
   ]
  },
  {
   "cell_type": "markdown",
   "metadata": {},
   "source": [
    "### Aqui empieza el programa"
   ]
  },
  {
   "cell_type": "code",
   "execution_count": 18,
   "metadata": {},
   "outputs": [],
   "source": [
    "dataset <- fread(\"./labo/datasets/paquete_premium_202011.csv\")   #cargo el dataset"
   ]
  },
  {
   "cell_type": "code",
   "execution_count": 19,
   "metadata": {},
   "outputs": [],
   "source": [
    "#defino unos buenos hiperparametros\n",
    "param  <- list(\"cp\" = -0.5,\n",
    "               \"minsplit\" =  900,\n",
    "               \"minbucket\" = 440,\n",
    "               \"maxdepth\" = 5\n",
    "              )"
   ]
  },
  {
   "cell_type": "markdown",
   "metadata": {},
   "source": [
    "#### Ahora hago algunas llamadas a la funcion"
   ]
  },
  {
   "cell_type": "code",
   "execution_count": 11,
   "metadata": {},
   "outputs": [
    {
     "data": {
      "text/html": [
       "2799000"
      ],
      "text/latex": [
       "2799000"
      ],
      "text/markdown": [
       "2799000"
      ],
      "text/plain": [
       "[1] 2799000"
      ]
     },
     "metadata": {},
     "output_type": "display_data"
    }
   ],
   "source": [
    "GananciaArbol(11, dataset, x = param)"
   ]
  },
  {
   "cell_type": "code",
   "execution_count": 12,
   "metadata": {},
   "outputs": [
    {
     "data": {
      "text/html": [
       "3520000"
      ],
      "text/latex": [
       "3520000"
      ],
      "text/markdown": [
       "3520000"
      ],
      "text/plain": [
       "[1] 3520000"
      ]
     },
     "metadata": {},
     "output_type": "display_data"
    }
   ],
   "source": [
    "GananciaArbol(13, dataset, x = param)"
   ]
  },
  {
   "cell_type": "code",
   "execution_count": 13,
   "metadata": {},
   "outputs": [
    {
     "data": {
      "text/html": [
       "2933000"
      ],
      "text/latex": [
       "2933000"
      ],
      "text/markdown": [
       "2933000"
      ],
      "text/plain": [
       "[1] 2933000"
      ]
     },
     "metadata": {},
     "output_type": "display_data"
    }
   ],
   "source": [
    "GananciaArbol(17, dataset, x = param)"
   ]
  },
  {
   "cell_type": "code",
   "execution_count": 14,
   "metadata": {},
   "outputs": [
    {
     "data": {
      "text/html": [
       "3144000"
      ],
      "text/latex": [
       "3144000"
      ],
      "text/markdown": [
       "3144000"
      ],
      "text/plain": [
       "[1] 3144000"
      ]
     },
     "metadata": {},
     "output_type": "display_data"
    }
   ],
   "source": [
    "GananciaArbol(19, dataset, x = param)"
   ]
  },
  {
   "cell_type": "code",
   "execution_count": 15,
   "metadata": {},
   "outputs": [
    {
     "data": {
      "text/html": [
       "3339000"
      ],
      "text/latex": [
       "3339000"
      ],
      "text/markdown": [
       "3339000"
      ],
      "text/plain": [
       "[1] 3339000"
      ]
     },
     "metadata": {},
     "output_type": "display_data"
    }
   ],
   "source": [
    "GananciaArbol(23, dataset, x = param)"
   ]
  },
  {
   "cell_type": "markdown",
   "metadata": {},
   "source": [
    "Lo primero que se obseva es la gran variabilidad de la ganancia sin normalizar segun la semilla, hasta un 50%"
   ]
  },
  {
   "cell_type": "markdown",
   "metadata": {},
   "source": [
    "| semilla | ganancia |\n",
    "| --- | ---: |\n",
    "| 11 | 2799000 |\n",
    "| 13 | 3520000 |\n",
    "| 17 | 2933000 |\n",
    "| 19 | 3144000 |\n",
    "| 23 | 3339000 |\n",
    "\n"
   ]
  },
  {
   "cell_type": "markdown",
   "metadata": {},
   "source": [
    "Normalizando las ganancias de testing, es decir haciendo el cociente por 0.3 da lo siguiente"
   ]
  },
  {
   "cell_type": "markdown",
   "metadata": {},
   "source": [
    "| semilla | ganancia |\n",
    "| --- | ---: |\n",
    "| 11 | 9330000|\n",
    "| 13 | 11733333 |\n",
    "| 17 | 9776667 |\n",
    "| 19 | 10480000 |\n",
    "| 23 | 11130000 |"
   ]
  },
  {
   "cell_type": "markdown",
   "metadata": {},
   "source": [
    "Esta dispersión es **NOTABLE**  ya que el algoritmo es el mismo, con los mismos parámetros.\n",
    "<br>\n",
    "Lo único que cambia es que datos se utilizan para entrenar y testear, pero siempre es 70% / 30%\n",
    "<br>\n",
    "Es más notable aún que se ha tenido cuidado que la partición sea estratificada segun el campo **clase_ternaria**, lo que apriori uno supondria que va a generar particiones muy homogéneas."
   ]
  },
  {
   "cell_type": "markdown",
   "metadata": {},
   "source": [
    "Aun con CV se mantiene una alta dispersion"
   ]
  },
  {
   "cell_type": "code",
   "execution_count": 23,
   "metadata": {},
   "outputs": [
    {
     "data": {
      "text/html": [
       "2192000"
      ],
      "text/latex": [
       "2192000"
      ],
      "text/markdown": [
       "2192000"
      ],
      "text/plain": [
       "[1] 2192000"
      ]
     },
     "metadata": {},
     "output_type": "display_data"
    }
   ],
   "source": [
    "GananciaArbol2(11, dataset, x = param)"
   ]
  },
  {
   "cell_type": "code",
   "execution_count": 24,
   "metadata": {},
   "outputs": [
    {
     "data": {
      "text/html": [
       "1545000"
      ],
      "text/latex": [
       "1545000"
      ],
      "text/markdown": [
       "1545000"
      ],
      "text/plain": [
       "[1] 1545000"
      ]
     },
     "metadata": {},
     "output_type": "display_data"
    }
   ],
   "source": [
    "GananciaArbol2(13, dataset, x = param)"
   ]
  }
 ],
 "metadata": {
  "kernelspec": {
   "display_name": "R",
   "language": "R",
   "name": "ir"
  },
  "language_info": {
   "codemirror_mode": "r",
   "file_extension": ".r",
   "mimetype": "text/x-r-source",
   "name": "R",
   "pygments_lexer": "r",
   "version": "3.6.1"
  }
 },
 "nbformat": 4,
 "nbformat_minor": 4
}
