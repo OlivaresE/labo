{
 "cells": [
  {
   "cell_type": "markdown",
   "metadata": {},
   "source": [
    "# Zero to Hero"
   ]
  },
  {
   "cell_type": "markdown",
   "metadata": {},
   "source": [
    "## 1.15 Montecarlo Estimation con una función en loop"
   ]
  },
  {
   "cell_type": "markdown",
   "metadata": {},
   "source": [
    "El objetivo es implementar con un for loop la estimacion montecarlo, que promedia las ganancias"
   ]
  },
  {
   "cell_type": "code",
   "execution_count": 4,
   "metadata": {},
   "outputs": [],
   "source": [
    "options(warn=-1)"
   ]
  },
  {
   "cell_type": "code",
   "execution_count": 5,
   "metadata": {},
   "outputs": [
    {
     "data": {
      "text/html": [
       "<table>\n",
       "<thead><tr><th></th><th scope=col>used</th><th scope=col>(Mb)</th><th scope=col>gc trigger</th><th scope=col>(Mb)</th><th scope=col>max used</th><th scope=col>(Mb)</th></tr></thead>\n",
       "<tbody>\n",
       "\t<tr><th scope=row>Ncells</th><td>1941893</td><td>103.8  </td><td>3661371</td><td>195.6  </td><td>3661371</td><td>195.6  </td></tr>\n",
       "\t<tr><th scope=row>Vcells</th><td>3242602</td><td> 24.8  </td><td>8388608</td><td> 64.0  </td><td>5255196</td><td> 40.1  </td></tr>\n",
       "</tbody>\n",
       "</table>\n"
      ],
      "text/latex": [
       "\\begin{tabular}{r|llllll}\n",
       "  & used & (Mb) & gc trigger & (Mb) & max used & (Mb)\\\\\n",
       "\\hline\n",
       "\tNcells & 1941893 & 103.8   & 3661371 & 195.6   & 3661371 & 195.6  \\\\\n",
       "\tVcells & 3242602 &  24.8   & 8388608 &  64.0   & 5255196 &  40.1  \\\\\n",
       "\\end{tabular}\n"
      ],
      "text/markdown": [
       "\n",
       "| <!--/--> | used | (Mb) | gc trigger | (Mb) | max used | (Mb) |\n",
       "|---|---|---|---|---|---|---|\n",
       "| Ncells | 1941893 | 103.8   | 3661371 | 195.6   | 3661371 | 195.6   |\n",
       "| Vcells | 3242602 |  24.8   | 8388608 |  64.0   | 5255196 |  40.1   |\n",
       "\n"
      ],
      "text/plain": [
       "       used    (Mb)  gc trigger (Mb)  max used (Mb) \n",
       "Ncells 1941893 103.8 3661371    195.6 3661371  195.6\n",
       "Vcells 3242602  24.8 8388608     64.0 5255196   40.1"
      ]
     },
     "metadata": {},
     "output_type": "display_data"
    }
   ],
   "source": [
    "rm(list=ls())\n",
    "gc()\n",
    "\n",
    "library(\"data.table\")   #cargo la libreria  data.table\n",
    "library(\"rpart\")  #cargo la libreria  rpart\n",
    "library(\"rpart.plot\")\n",
    "library(\"caret\")"
   ]
  },
  {
   "cell_type": "code",
   "execution_count": 6,
   "metadata": {},
   "outputs": [],
   "source": [
    "options(repr.plot.width = 20, repr.plot.height = 10) \n",
    "setwd(\"C:\\\\Users\\\\oliva\\\\OneDrive\\\\Desktop\\\\DS\\\\Austral\\\\08 - Labo1\") #Aqui se debe poner la ruta de la PC local"
   ]
  },
  {
   "cell_type": "markdown",
   "metadata": {},
   "source": [
    "La funcion que definimos en el notebook anterior"
   ]
  },
  {
   "cell_type": "code",
   "execution_count": 15,
   "metadata": {},
   "outputs": [],
   "source": [
    "GananciaArbol  <-  function(semilla, data, x, train = 0.70) {\n",
    "  #establezco la semilla\n",
    "  set.seed(semilla)\n",
    "  train_rows <- createDataPartition(dataset$clase_ternaria, p = 0.70, list = FALSE)\n",
    "  \n",
    "  modelo <- rpart(formula= \"clase_ternaria ~ .\" ,\n",
    "                          data= data[ train_rows],  #los datos de training\n",
    "                          xval= 0, #no CV\n",
    "                          control= x)\n",
    "    \n",
    "  #Aplico el modelo a los datos de testing  \n",
    "  prediccion  <- predict( modelo, data[ -train_rows], type = \"prob\")\n",
    "  \n",
    "  prob_baja2  <- prediccion[, \"BAJA+2\"]\n",
    "  ganancia_testing <- data[ -train_rows, sum((prob_baja2>1/60) * ifelse( clase_ternaria == \"BAJA+2\", 59000, -1000))]\n",
    "  \n",
    "  #normalizo la ganancia\n",
    "  ganancia_testing_normalizada <- ganancia_testing/0.3  \n",
    "\n",
    "  return(ganancia_testing_normalizada)\n",
    "}"
   ]
  },
  {
   "cell_type": "code",
   "execution_count": 16,
   "metadata": {},
   "outputs": [],
   "source": [
    "ArbolMontecarlo <- function(semillas, data, x, train = 0.70){\n",
    "    \n",
    "  vector_ganancias <- c()  #vector donde voy a ir acumulando las ganancias\n",
    "  for(semilla in ksemillas)\n",
    "  {\n",
    "    ganancia <- GananciaArbol(semilla, dataset, x = x, train = 0.70 )\n",
    "    vector_ganancias <- c(vector_ganancias, ganancia)\n",
    "  }\n",
    "    \n",
    "  return(mean(vector_ganancias))\n",
    "}"
   ]
  },
  {
   "cell_type": "code",
   "execution_count": 17,
   "metadata": {},
   "outputs": [],
   "source": [
    "dataset <- fread(\"./labo/datasets/paquete_premium_202011.csv\")   #cargo el dataset"
   ]
  },
  {
   "cell_type": "code",
   "execution_count": 18,
   "metadata": {},
   "outputs": [],
   "source": [
    "ksemillas <- c(477293, 525713, 679561, 895627, 978643) #reemplazar por las propias semillas"
   ]
  },
  {
   "cell_type": "code",
   "execution_count": 19,
   "metadata": {},
   "outputs": [],
   "source": [
    "#defino el primer set de hiperparametros\n",
    "param1  <- list(\"cp\"= -0.5,\n",
    "                \"minsplit\"=  900,\n",
    "                \"minbucket\"= 440,\n",
    "                \"maxdepth\"= 5 )"
   ]
  },
  {
   "cell_type": "markdown",
   "metadata": {},
   "source": [
    "Llamo a la fucion ArbolMontecarlo con las 5 semillas de ksemillas"
   ]
  },
  {
   "cell_type": "code",
   "execution_count": 20,
   "metadata": {},
   "outputs": [],
   "source": [
    "ganancia_montecarlo1  <- ArbolMontecarlo(ksemillas, dataset, x = param1, train= 0.70 )"
   ]
  },
  {
   "cell_type": "code",
   "execution_count": 21,
   "metadata": {},
   "outputs": [],
   "source": [
    "#el SEGUNDO set de hiperparametros\n",
    "param2  <- list(\"cp\"= -0.5,\n",
    "                \"minsplit\"=  1340,\n",
    "                \"minbucket\"=  600,\n",
    "                \"maxdepth\"= 6 )"
   ]
  },
  {
   "cell_type": "code",
   "execution_count": 22,
   "metadata": {},
   "outputs": [],
   "source": [
    "ganancia_montecarlo2  <- ArbolMontecarlo( ksemillas, dataset, x = param2, train = 0.70 )"
   ]
  },
  {
   "cell_type": "code",
   "execution_count": 23,
   "metadata": {},
   "outputs": [
    {
     "data": {
      "text/html": [
       "10050666.6666667"
      ],
      "text/latex": [
       "10050666.6666667"
      ],
      "text/markdown": [
       "10050666.6666667"
      ],
      "text/plain": [
       "[1] 10050667"
      ]
     },
     "metadata": {},
     "output_type": "display_data"
    },
    {
     "data": {
      "text/html": [
       "9944666.66666667"
      ],
      "text/latex": [
       "9944666.66666667"
      ],
      "text/markdown": [
       "9944666.66666667"
      ],
      "text/plain": [
       "[1] 9944667"
      ]
     },
     "metadata": {},
     "output_type": "display_data"
    }
   ],
   "source": [
    "ganancia_montecarlo1\n",
    "ganancia_montecarlo2"
   ]
  },
  {
   "cell_type": "markdown",
   "metadata": {},
   "source": [
    "Segun este experimento, el primer juego de hiperparametros es mejor que el primero\n",
    "<br>\n",
    "¿Se cumplirá esto subiendo a Kaggle?\n",
    "<br>\n",
    "¿Qué sucede si en Kaggle funciona bastante mejor el segundo set de hiperparámetros?"
   ]
  }
 ],
 "metadata": {
  "kernelspec": {
   "display_name": "R",
   "language": "R",
   "name": "ir"
  },
  "language_info": {
   "codemirror_mode": "r",
   "file_extension": ".r",
   "mimetype": "text/x-r-source",
   "name": "R",
   "pygments_lexer": "r",
   "version": "3.6.1"
  }
 },
 "nbformat": 4,
 "nbformat_minor": 4
}
