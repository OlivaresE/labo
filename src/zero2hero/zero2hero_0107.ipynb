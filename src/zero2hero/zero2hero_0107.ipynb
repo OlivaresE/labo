{
 "cells": [
  {
   "cell_type": "markdown",
   "metadata": {},
   "source": [
    "# Zero to Hero"
   ]
  },
  {
   "cell_type": "markdown",
   "metadata": {},
   "source": [
    "## 1.07 Aplicando el arbol"
   ]
  },
  {
   "cell_type": "markdown",
   "metadata": {},
   "source": [
    "Se aplicará el modelo generado por rpart a los datos nuevos y se genera la salida para Kaggle"
   ]
  },
  {
   "cell_type": "code",
   "execution_count": 1,
   "metadata": {},
   "outputs": [
    {
     "data": {
      "text/html": [
       "<table>\n",
       "<thead><tr><th></th><th scope=col>used</th><th scope=col>(Mb)</th><th scope=col>gc trigger</th><th scope=col>(Mb)</th><th scope=col>max used</th><th scope=col>(Mb)</th></tr></thead>\n",
       "<tbody>\n",
       "\t<tr><th scope=row>Ncells</th><td>474418 </td><td>25.4   </td><td>1044524</td><td>55.8   </td><td> 621911</td><td>33.3   </td></tr>\n",
       "\t<tr><th scope=row>Vcells</th><td>875274 </td><td> 6.7   </td><td>8388608</td><td>64.0   </td><td>1601572</td><td>12.3   </td></tr>\n",
       "</tbody>\n",
       "</table>\n"
      ],
      "text/latex": [
       "\\begin{tabular}{r|llllll}\n",
       "  & used & (Mb) & gc trigger & (Mb) & max used & (Mb)\\\\\n",
       "\\hline\n",
       "\tNcells & 474418  & 25.4    & 1044524 & 55.8    &  621911 & 33.3   \\\\\n",
       "\tVcells & 875274  &  6.7    & 8388608 & 64.0    & 1601572 & 12.3   \\\\\n",
       "\\end{tabular}\n"
      ],
      "text/markdown": [
       "\n",
       "| <!--/--> | used | (Mb) | gc trigger | (Mb) | max used | (Mb) |\n",
       "|---|---|---|---|---|---|---|\n",
       "| Ncells | 474418  | 25.4    | 1044524 | 55.8    |  621911 | 33.3    |\n",
       "| Vcells | 875274  |  6.7    | 8388608 | 64.0    | 1601572 | 12.3    |\n",
       "\n"
      ],
      "text/plain": [
       "       used   (Mb) gc trigger (Mb) max used (Mb)\n",
       "Ncells 474418 25.4 1044524    55.8  621911  33.3\n",
       "Vcells 875274  6.7 8388608    64.0 1601572  12.3"
      ]
     },
     "metadata": {},
     "output_type": "display_data"
    },
    {
     "name": "stderr",
     "output_type": "stream",
     "text": [
      "Warning message:\n",
      "\"package 'data.table' was built under R version 3.6.3\"Warning message:\n",
      "\"package 'rpart' was built under R version 3.6.3\""
     ]
    },
    {
     "ename": "ERROR",
     "evalue": "Error in setwd(\"D:\\\\gdrive\\\\Austral2022R\\\\\"): cannot change working directory\n",
     "output_type": "error",
     "traceback": [
      "Error in setwd(\"D:\\\\gdrive\\\\Austral2022R\\\\\"): cannot change working directory\nTraceback:\n",
      "1. setwd(\"D:\\\\gdrive\\\\Austral2022R\\\\\")"
     ]
    }
   ],
   "source": [
    "rm( list=ls())\n",
    "gc()\n",
    "\n",
    "library( \"data.table\")   #cargo la libreria  data.table\n",
    "library( \"rpart\")  #cargo la libreria  rpart\n",
    "library( \"rpart.plot\")"
   ]
  },
  {
   "cell_type": "code",
   "execution_count": 2,
   "metadata": {},
   "outputs": [],
   "source": [
    "options(repr.plot.width=20, repr.plot.height=10) \n",
    "setwd(\"C:\\\\Users\\\\oliva\\\\OneDrive\\\\Desktop\\\\DS\\\\Austral\\\\08 - Labo1\") #Aqui se debe poner la ruta de la PC local"
   ]
  },
  {
   "cell_type": "code",
   "execution_count": 6,
   "metadata": {},
   "outputs": [],
   "source": [
    "dtrain <- fread(\"./labo/datasets/paquete_premium_202011.csv\")   #cargo el dataset"
   ]
  },
  {
   "cell_type": "code",
   "execution_count": 7,
   "metadata": {},
   "outputs": [],
   "source": [
    "#genero el modelo\n",
    "modelo <-  rpart::rpart(formula= \"clase_ternaria ~ .\" ,\n",
    "                        data= dtrain,\n",
    "                        xval= 0,\n",
    "                        cp= -1,\n",
    "                        maxdepth= 2 )"
   ]
  },
  {
   "cell_type": "markdown",
   "metadata": {},
   "source": [
    "Cargo el dataset a donde voy a aplicar el modelo"
   ]
  },
  {
   "cell_type": "code",
   "execution_count": 11,
   "metadata": {},
   "outputs": [],
   "source": [
    "dapply <- fread(\"./labo/datasets/paquete_premium_202101.csv\")   #cargo el dataset"
   ]
  },
  {
   "cell_type": "markdown",
   "metadata": {},
   "source": [
    "Aplico el modelo a los datos dapply  pidiendo que me devuelva probabildades"
   ]
  },
  {
   "cell_type": "code",
   "execution_count": 12,
   "metadata": {},
   "outputs": [],
   "source": [
    "prediccion  <- predict( modelo, dapply, type = \"prob\")"
   ]
  },
  {
   "cell_type": "markdown",
   "metadata": {},
   "source": [
    "Analizo que queda en prediccion"
   ]
  },
  {
   "cell_type": "code",
   "execution_count": 13,
   "metadata": {},
   "outputs": [
    {
     "data": {
      "text/html": [
       "<table>\n",
       "<thead><tr><th scope=col>BAJA+1</th><th scope=col>BAJA+2</th><th scope=col>CONTINUA</th></tr></thead>\n",
       "<tbody>\n",
       "\t<tr><td>0.0007027639</td><td>0.001083083 </td><td>0.9982142   </td></tr>\n",
       "\t<tr><td>0.0007027639</td><td>0.001083083 </td><td>0.9982142   </td></tr>\n",
       "\t<tr><td>0.0007027639</td><td>0.001083083 </td><td>0.9982142   </td></tr>\n",
       "\t<tr><td>0.0007027639</td><td>0.001083083 </td><td>0.9982142   </td></tr>\n",
       "\t<tr><td>0.0007027639</td><td>0.001083083 </td><td>0.9982142   </td></tr>\n",
       "\t<tr><td>0.0007027639</td><td>0.001083083 </td><td>0.9982142   </td></tr>\n",
       "</tbody>\n",
       "</table>\n"
      ],
      "text/latex": [
       "\\begin{tabular}{r|lll}\n",
       " BAJA+1 & BAJA+2 & CONTINUA\\\\\n",
       "\\hline\n",
       "\t 0.0007027639 & 0.001083083  & 0.9982142   \\\\\n",
       "\t 0.0007027639 & 0.001083083  & 0.9982142   \\\\\n",
       "\t 0.0007027639 & 0.001083083  & 0.9982142   \\\\\n",
       "\t 0.0007027639 & 0.001083083  & 0.9982142   \\\\\n",
       "\t 0.0007027639 & 0.001083083  & 0.9982142   \\\\\n",
       "\t 0.0007027639 & 0.001083083  & 0.9982142   \\\\\n",
       "\\end{tabular}\n"
      ],
      "text/markdown": [
       "\n",
       "| BAJA+1 | BAJA+2 | CONTINUA |\n",
       "|---|---|---|\n",
       "| 0.0007027639 | 0.001083083  | 0.9982142    |\n",
       "| 0.0007027639 | 0.001083083  | 0.9982142    |\n",
       "| 0.0007027639 | 0.001083083  | 0.9982142    |\n",
       "| 0.0007027639 | 0.001083083  | 0.9982142    |\n",
       "| 0.0007027639 | 0.001083083  | 0.9982142    |\n",
       "| 0.0007027639 | 0.001083083  | 0.9982142    |\n",
       "\n"
      ],
      "text/plain": [
       "  BAJA+1       BAJA+2      CONTINUA \n",
       "1 0.0007027639 0.001083083 0.9982142\n",
       "2 0.0007027639 0.001083083 0.9982142\n",
       "3 0.0007027639 0.001083083 0.9982142\n",
       "4 0.0007027639 0.001083083 0.9982142\n",
       "5 0.0007027639 0.001083083 0.9982142\n",
       "6 0.0007027639 0.001083083 0.9982142"
      ]
     },
     "metadata": {},
     "output_type": "display_data"
    }
   ],
   "source": [
    "head(prediccion)"
   ]
  },
  {
   "cell_type": "markdown",
   "metadata": {},
   "source": [
    "Prediccion es una matriz; me interesa la columna \"BAJA+2\"  que es la probabilidad que modelo asigna a cada registro de dapply"
   ]
  },
  {
   "cell_type": "code",
   "execution_count": 14,
   "metadata": {},
   "outputs": [],
   "source": [
    "prob_baja2  <- prediccion[, \"BAJA+2\"]"
   ]
  },
  {
   "cell_type": "code",
   "execution_count": 15,
   "metadata": {},
   "outputs": [
    {
     "data": {
      "text/html": [
       "<dl class=dl-horizontal>\n",
       "\t<dt>1</dt>\n",
       "\t\t<dd>0.00108308323205265</dd>\n",
       "\t<dt>2</dt>\n",
       "\t\t<dd>0.00108308323205265</dd>\n",
       "\t<dt>3</dt>\n",
       "\t\t<dd>0.00108308323205265</dd>\n",
       "\t<dt>4</dt>\n",
       "\t\t<dd>0.00108308323205265</dd>\n",
       "\t<dt>5</dt>\n",
       "\t\t<dd>0.00108308323205265</dd>\n",
       "\t<dt>6</dt>\n",
       "\t\t<dd>0.00108308323205265</dd>\n",
       "</dl>\n"
      ],
      "text/latex": [
       "\\begin{description*}\n",
       "\\item[1] 0.00108308323205265\n",
       "\\item[2] 0.00108308323205265\n",
       "\\item[3] 0.00108308323205265\n",
       "\\item[4] 0.00108308323205265\n",
       "\\item[5] 0.00108308323205265\n",
       "\\item[6] 0.00108308323205265\n",
       "\\end{description*}\n"
      ],
      "text/markdown": [
       "1\n",
       ":   0.001083083232052652\n",
       ":   0.001083083232052653\n",
       ":   0.001083083232052654\n",
       ":   0.001083083232052655\n",
       ":   0.001083083232052656\n",
       ":   0.00108308323205265\n",
       "\n"
      ],
      "text/plain": [
       "          1           2           3           4           5           6 \n",
       "0.001083083 0.001083083 0.001083083 0.001083083 0.001083083 0.001083083 "
      ]
     },
     "metadata": {},
     "output_type": "display_data"
    }
   ],
   "source": [
    "head( prob_baja2)"
   ]
  },
  {
   "cell_type": "markdown",
   "metadata": {},
   "source": [
    "prob_baja2 es el vector de probabilidades"
   ]
  },
  {
   "cell_type": "code",
   "execution_count": 16,
   "metadata": {},
   "outputs": [
    {
     "data": {
      "text/html": [
       "160607"
      ],
      "text/latex": [
       "160607"
      ],
      "text/markdown": [
       "160607"
      ],
      "text/plain": [
       "[1] 160607"
      ]
     },
     "metadata": {},
     "output_type": "display_data"
    },
    {
     "data": {
      "text/html": [
       "160607"
      ],
      "text/latex": [
       "160607"
      ],
      "text/markdown": [
       "160607"
      ],
      "text/plain": [
       "[1] 160607"
      ]
     },
     "metadata": {},
     "output_type": "display_data"
    }
   ],
   "source": [
    "length( prob_baja2 )\n",
    "nrow( dapply )"
   ]
  },
  {
   "cell_type": "markdown",
   "metadata": {},
   "source": [
    "Ahora decido si envio el estimulo o no\n",
    "<br>\n",
    "si prob( BAJA+2) > 0.025  envio  el estímulo"
   ]
  },
  {
   "cell_type": "code",
   "execution_count": 17,
   "metadata": {},
   "outputs": [],
   "source": [
    "Predicted   <- ifelse( prob_baja2 > 1/60, 1, 0 )"
   ]
  },
  {
   "cell_type": "code",
   "execution_count": 18,
   "metadata": {},
   "outputs": [
    {
     "data": {
      "text/html": [
       "<dl class=dl-horizontal>\n",
       "\t<dt>1</dt>\n",
       "\t\t<dd>0</dd>\n",
       "\t<dt>2</dt>\n",
       "\t\t<dd>0</dd>\n",
       "\t<dt>3</dt>\n",
       "\t\t<dd>0</dd>\n",
       "\t<dt>4</dt>\n",
       "\t\t<dd>0</dd>\n",
       "\t<dt>5</dt>\n",
       "\t\t<dd>0</dd>\n",
       "\t<dt>6</dt>\n",
       "\t\t<dd>0</dd>\n",
       "</dl>\n"
      ],
      "text/latex": [
       "\\begin{description*}\n",
       "\\item[1] 0\n",
       "\\item[2] 0\n",
       "\\item[3] 0\n",
       "\\item[4] 0\n",
       "\\item[5] 0\n",
       "\\item[6] 0\n",
       "\\end{description*}\n"
      ],
      "text/markdown": [
       "1\n",
       ":   02\n",
       ":   03\n",
       ":   04\n",
       ":   05\n",
       ":   06\n",
       ":   0\n",
       "\n"
      ],
      "text/plain": [
       "1 2 3 4 5 6 \n",
       "0 0 0 0 0 0 "
      ]
     },
     "metadata": {},
     "output_type": "display_data"
    }
   ],
   "source": [
    "head( Predicted)"
   ]
  },
  {
   "cell_type": "code",
   "execution_count": 19,
   "metadata": {},
   "outputs": [
    {
     "data": {
      "image/png": "[encoded data removed]",
      "text/plain": [
       "Plot with title \"Histogram of Predicted\""
      ]
     },
     "metadata": {},
     "output_type": "display_data"
    }
   ],
   "source": [
    "hist( Predicted)"
   ]
  },
  {
   "cell_type": "markdown",
   "metadata": {},
   "source": [
    "creo una tabla con  lo que voy a enviar a Kaggle"
   ]
  },
  {
   "cell_type": "code",
   "execution_count": 20,
   "metadata": {},
   "outputs": [],
   "source": [
    "entrega  <-  as.data.table( list( \"numero_de_cliente\"=dapply$numero_de_cliente, \"Predicted\"=Predicted)  )"
   ]
  },
  {
   "cell_type": "code",
   "execution_count": 21,
   "metadata": {},
   "outputs": [
    {
     "data": {
      "text/html": [
       "<table>\n",
       "<thead><tr><th scope=col>numero_de_cliente</th><th scope=col>Predicted</th></tr></thead>\n",
       "<tbody>\n",
       "\t<tr><td>4572300</td><td>0      </td></tr>\n",
       "\t<tr><td>4572957</td><td>0      </td></tr>\n",
       "\t<tr><td>4572973</td><td>0      </td></tr>\n",
       "\t<tr><td>4572998</td><td>0      </td></tr>\n",
       "\t<tr><td>4573029</td><td>0      </td></tr>\n",
       "\t<tr><td>4573199</td><td>0      </td></tr>\n",
       "</tbody>\n",
       "</table>\n"
      ],
      "text/latex": [
       "\\begin{tabular}{r|ll}\n",
       " numero\\_de\\_cliente & Predicted\\\\\n",
       "\\hline\n",
       "\t 4572300 & 0      \\\\\n",
       "\t 4572957 & 0      \\\\\n",
       "\t 4572973 & 0      \\\\\n",
       "\t 4572998 & 0      \\\\\n",
       "\t 4573029 & 0      \\\\\n",
       "\t 4573199 & 0      \\\\\n",
       "\\end{tabular}\n"
      ],
      "text/markdown": [
       "\n",
       "| numero_de_cliente | Predicted |\n",
       "|---|---|\n",
       "| 4572300 | 0       |\n",
       "| 4572957 | 0       |\n",
       "| 4572973 | 0       |\n",
       "| 4572998 | 0       |\n",
       "| 4573029 | 0       |\n",
       "| 4573199 | 0       |\n",
       "\n"
      ],
      "text/plain": [
       "  numero_de_cliente Predicted\n",
       "1 4572300           0        \n",
       "2 4572957           0        \n",
       "3 4572973           0        \n",
       "4 4572998           0        \n",
       "5 4573029           0        \n",
       "6 4573199           0        "
      ]
     },
     "metadata": {},
     "output_type": "display_data"
    }
   ],
   "source": [
    "head( entrega)"
   ]
  },
  {
   "cell_type": "code",
   "execution_count": 32,
   "metadata": {},
   "outputs": [
    {
     "data": {
      "text/html": [
       "<table>\n",
       "<thead><tr><th scope=col>Predicted</th><th scope=col>N</th></tr></thead>\n",
       "<tbody>\n",
       "\t<tr><td>0     </td><td>152235</td></tr>\n",
       "\t<tr><td>1     </td><td>  8372</td></tr>\n",
       "</tbody>\n",
       "</table>\n"
      ],
      "text/latex": [
       "\\begin{tabular}{r|ll}\n",
       " Predicted & N\\\\\n",
       "\\hline\n",
       "\t 0      & 152235\\\\\n",
       "\t 1      &   8372\\\\\n",
       "\\end{tabular}\n"
      ],
      "text/markdown": [
       "\n",
       "| Predicted | N |\n",
       "|---|---|\n",
       "| 0      | 152235 |\n",
       "| 1      |   8372 |\n",
       "\n"
      ],
      "text/plain": [
       "  Predicted N     \n",
       "1 0         152235\n",
       "2 1           8372"
      ]
     },
     "metadata": {},
     "output_type": "display_data"
    }
   ],
   "source": [
    "entrega[ , .N, Predicted] #todas las filas, por columnas, group by prediccion"
   ]
  },
  {
   "cell_type": "markdown",
   "metadata": {},
   "source": [
    "Esto significa que se enviaran 8157 estímulos"
   ]
  },
  {
   "cell_type": "code",
   "execution_count": 24,
   "metadata": {},
   "outputs": [],
   "source": [
    "#genero el archivo para Kaggle\n",
    "#creo la carpeta donde va el experimento\n",
    "dir.create( \"./labo/exp/\",  showWarnings = FALSE ) \n",
    "dir.create( \"./labo/exp/ZH2017/\", showWarnings = FALSE )\n",
    "\n",
    "fwrite( entrega, \n",
    "        file= \"./labo/exp/ZH2017/para_Kaggle_0107.csv\",\n",
    "        sep=  \",\" )"
   ]
  },
  {
   "cell_type": "markdown",
   "metadata": {},
   "source": [
    "Subiendo a Kaggle la prediccion anterior se obtiene en el Public Leaderboard 13.87474"
   ]
  }
 ],
 "metadata": {
  "kernelspec": {
   "display_name": "R",
   "language": "R",
   "name": "ir"
  },
  "language_info": {
   "codemirror_mode": "r",
   "file_extension": ".r",
   "mimetype": "text/x-r-source",
   "name": "R",
   "pygments_lexer": "r",
   "version": "3.6.1"
  }
 },
 "nbformat": 4,
 "nbformat_minor": 4
}
