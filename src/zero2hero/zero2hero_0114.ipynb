{
 "cells": [
  {
   "cell_type": "markdown",
   "metadata": {},
   "source": [
    "# Zero to Hero"
   ]
  },
  {
   "cell_type": "markdown",
   "metadata": {},
   "source": [
    "## 1.14 Montecarlo Estimation, Arbol\n",
    "## con un for loop"
   ]
  },
  {
   "cell_type": "markdown",
   "metadata": {},
   "source": [
    "El objetivo es implementar con un for loop la estimacion montecarlo, que promedia las ganancias"
   ]
  },
  {
   "cell_type": "code",
   "execution_count": 1,
   "metadata": {},
   "outputs": [
    {
     "data": {
      "text/html": [
       "<table>\n",
       "<thead><tr><th></th><th scope=col>used</th><th scope=col>(Mb)</th><th scope=col>gc trigger</th><th scope=col>(Mb)</th><th scope=col>max used</th><th scope=col>(Mb)</th></tr></thead>\n",
       "<tbody>\n",
       "\t<tr><th scope=row>Ncells</th><td>474432 </td><td>25.4   </td><td>1044564</td><td>55.8   </td><td> 621911</td><td>33.3   </td></tr>\n",
       "\t<tr><th scope=row>Vcells</th><td>875338 </td><td> 6.7   </td><td>8388608</td><td>64.0   </td><td>1601322</td><td>12.3   </td></tr>\n",
       "</tbody>\n",
       "</table>\n"
      ],
      "text/latex": [
       "\\begin{tabular}{r|llllll}\n",
       "  & used & (Mb) & gc trigger & (Mb) & max used & (Mb)\\\\\n",
       "\\hline\n",
       "\tNcells & 474432  & 25.4    & 1044564 & 55.8    &  621911 & 33.3   \\\\\n",
       "\tVcells & 875338  &  6.7    & 8388608 & 64.0    & 1601322 & 12.3   \\\\\n",
       "\\end{tabular}\n"
      ],
      "text/markdown": [
       "\n",
       "| <!--/--> | used | (Mb) | gc trigger | (Mb) | max used | (Mb) |\n",
       "|---|---|---|---|---|---|---|\n",
       "| Ncells | 474432  | 25.4    | 1044564 | 55.8    |  621911 | 33.3    |\n",
       "| Vcells | 875338  |  6.7    | 8388608 | 64.0    | 1601322 | 12.3    |\n",
       "\n"
      ],
      "text/plain": [
       "       used   (Mb) gc trigger (Mb) max used (Mb)\n",
       "Ncells 474432 25.4 1044564    55.8  621911  33.3\n",
       "Vcells 875338  6.7 8388608    64.0 1601322  12.3"
      ]
     },
     "metadata": {},
     "output_type": "display_data"
    },
    {
     "name": "stderr",
     "output_type": "stream",
     "text": [
      "Loading required package: lattice\n",
      "Loading required package: ggplot2\n",
      "Registered S3 methods overwritten by 'ggplot2':\n",
      "  method         from \n",
      "  [.quosures     rlang\n",
      "  c.quosures     rlang\n",
      "  print.quosures rlang\n"
     ]
    },
    {
     "ename": "ERROR",
     "evalue": "Error in setwd(\"d:\\\\gdrive\\\\Austral2022R\\\\\"): cannot change working directory\n",
     "output_type": "error",
     "traceback": [
      "Error in setwd(\"d:\\\\gdrive\\\\Austral2022R\\\\\"): cannot change working directory\nTraceback:\n",
      "1. setwd(\"d:\\\\gdrive\\\\Austral2022R\\\\\")"
     ]
    }
   ],
   "source": [
    "rm( list=ls())\n",
    "gc()\n",
    "\n",
    "library(\"data.table\")   #cargo la libreria  data.table\n",
    "library(\"rpart\")  #cargo la libreria  rpart\n",
    "library(\"rpart.plot\")\n",
    "library(\"caret\")\n",
    "\n",
    "options(repr.plot.width=20, repr.plot.height=10) \n",
    "setwd(\"d:\\\\gdrive\\\\Austral2022R\\\\\")  #Aqui se debe poner la ruta de la PC local"
   ]
  },
  {
   "cell_type": "markdown",
   "metadata": {},
   "source": [
    "La funcion que definimos en el notebook anterior"
   ]
  },
  {
   "cell_type": "code",
   "execution_count": null,
   "metadata": {},
   "outputs": [],
   "source": [
    "GananciaArbol  <-  function( semilla, data, x, train=0.70) {\n",
    "  #establezco la semilla\n",
    "  set.seed(semilla)\n",
    "  train_rows <- createDataPartition(dataset$clase_ternaria, p= 0.70,list= FALSE)\n",
    "  \n",
    "  modelo <-  rpart::rpart(formula= \"clase_ternaria ~ .\" ,\n",
    "                          data= data[ train_rows],  #los datos de training\n",
    "                          xval= 0,\n",
    "                          control= x)\n",
    "    \n",
    "  #Aplico el modelo a los datos de testing  \n",
    "  prediccion  <- predict( modelo, data[ -train_rows], type = \"prob\")\n",
    "  \n",
    "  prob_baja2  <- prediccion[, \"BAJA+2\"]\n",
    "  ganancia_testing <- data[ -train_rows, sum(  (prob_baja2>1/60) * ifelse( clase_ternaria==\"BAJA+2\", 59000, -1000) )]\n",
    "\n",
    "  #normalizo la ganancia\n",
    "  ganancia_testing_normalizada  <- ganancia_testing/0.3  \n",
    "\n",
    "  return( ganancia_testing_normalizada )\n",
    "}"
   ]
  },
  {
   "cell_type": "code",
   "execution_count": null,
   "metadata": {},
   "outputs": [],
   "source": [
    "dataset <- data.table::fread(\"./datasets/paquete_premium_202011.csv\")   #cargo el dataset"
   ]
  },
  {
   "cell_type": "code",
   "execution_count": null,
   "metadata": {},
   "outputs": [],
   "source": [
    "#defino unos buenos hiperparametros\n",
    "param  <- list(\"cp\"= -0.5,\n",
    "               \"minsplit\"=  900,\n",
    "               \"minbucket\"= 440,\n",
    "               \"maxdepth\"= 5 )"
   ]
  },
  {
   "cell_type": "code",
   "execution_count": null,
   "metadata": {},
   "outputs": [],
   "source": [
    "#defino el vector de semillas"
   ]
  },
  {
   "cell_type": "code",
   "execution_count": null,
   "metadata": {},
   "outputs": [],
   "source": [
    "ksemillas  <- c(102191, 200177, 410551, 552581, 892237) #reemplazar por las propias semillas"
   ]
  },
  {
   "cell_type": "code",
   "execution_count": null,
   "metadata": {},
   "outputs": [],
   "source": [
    "vector_ganancias  <- c()  #vector donde voy a ir acumulando las ganancias"
   ]
  },
  {
   "cell_type": "code",
   "execution_count": null,
   "metadata": {},
   "outputs": [],
   "source": [
    "for( semilla in ksemillas)\n",
    "{\n",
    "    ganancia  <- GananciaArbol( semilla, dataset, x=param, train=0.70 )\n",
    "    vector_ganancias  <- c( vector_ganancias, ganancia)\n",
    "}"
   ]
  },
  {
   "cell_type": "markdown",
   "metadata": {},
   "source": [
    "veo que tiene  vector_ganancias"
   ]
  },
  {
   "cell_type": "code",
   "execution_count": null,
   "metadata": {},
   "outputs": [],
   "source": [
    "vector_ganancias"
   ]
  },
  {
   "cell_type": "markdown",
   "metadata": {},
   "source": [
    "Calculo la media de  vector_ganancias"
   ]
  },
  {
   "cell_type": "code",
   "execution_count": null,
   "metadata": {},
   "outputs": [],
   "source": [
    "mean( vector_ganancias )"
   ]
  },
  {
   "cell_type": "code",
   "execution_count": null,
   "metadata": {},
   "outputs": [],
   "source": []
  }
 ],
 "metadata": {
  "kernelspec": {
   "display_name": "R",
   "language": "R",
   "name": "ir"
  },
  "language_info": {
   "codemirror_mode": "r",
   "file_extension": ".r",
   "mimetype": "text/x-r-source",
   "name": "R",
   "pygments_lexer": "r",
   "version": "3.6.1"
  }
 },
 "nbformat": 4,
 "nbformat_minor": 4
}
