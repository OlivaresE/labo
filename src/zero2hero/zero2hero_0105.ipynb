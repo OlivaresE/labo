{
 "cells": [
  {
   "cell_type": "markdown",
   "metadata": {},
   "source": [
    "# Zero to Hero"
   ]
  },
  {
   "cell_type": "markdown",
   "metadata": {},
   "source": [
    "## 1.05 Creando un data.table a partir de las columnas"
   ]
  },
  {
   "cell_type": "code",
   "execution_count": 4,
   "metadata": {},
   "outputs": [],
   "source": [
    "options(warn=-1)"
   ]
  },
  {
   "cell_type": "markdown",
   "metadata": {},
   "source": [
    "Hasta ahora, para crear una data.table estamos leyendo un archivo del disco ( o bajándolo de internet)\n",
    "<bv>\n",
    " Ahora veremos como crearla a partir de dos vectores   "
   ]
  },
  {
   "cell_type": "code",
   "execution_count": 17,
   "metadata": {},
   "outputs": [
    {
     "data": {
      "text/html": [
       "<table>\n",
       "<thead><tr><th></th><th scope=col>used</th><th scope=col>(Mb)</th><th scope=col>gc trigger</th><th scope=col>(Mb)</th><th scope=col>max used</th><th scope=col>(Mb)</th></tr></thead>\n",
       "<tbody>\n",
       "\t<tr><th scope=row>Ncells</th><td>517794 </td><td>27.7   </td><td>1044441</td><td>55.8   </td><td>1044441</td><td>55.8   </td></tr>\n",
       "\t<tr><th scope=row>Vcells</th><td>957061 </td><td> 7.4   </td><td>8388608</td><td>64.0   </td><td>1601572</td><td>12.3   </td></tr>\n",
       "</tbody>\n",
       "</table>\n"
      ],
      "text/latex": [
       "\\begin{tabular}{r|llllll}\n",
       "  & used & (Mb) & gc trigger & (Mb) & max used & (Mb)\\\\\n",
       "\\hline\n",
       "\tNcells & 517794  & 27.7    & 1044441 & 55.8    & 1044441 & 55.8   \\\\\n",
       "\tVcells & 957061  &  7.4    & 8388608 & 64.0    & 1601572 & 12.3   \\\\\n",
       "\\end{tabular}\n"
      ],
      "text/markdown": [
       "\n",
       "| <!--/--> | used | (Mb) | gc trigger | (Mb) | max used | (Mb) |\n",
       "|---|---|---|---|---|---|---|\n",
       "| Ncells | 517794  | 27.7    | 1044441 | 55.8    | 1044441 | 55.8    |\n",
       "| Vcells | 957061  |  7.4    | 8388608 | 64.0    | 1601572 | 12.3    |\n",
       "\n"
      ],
      "text/plain": [
       "       used   (Mb) gc trigger (Mb) max used (Mb)\n",
       "Ncells 517794 27.7 1044441    55.8 1044441  55.8\n",
       "Vcells 957061  7.4 8388608    64.0 1601572  12.3"
      ]
     },
     "metadata": {},
     "output_type": "display_data"
    }
   ],
   "source": [
    "rm( list=ls())\n",
    "gc()\n",
    "\n",
    "library( \"data.table\")   #cargo la libreria  data.table"
   ]
  },
  {
   "cell_type": "code",
   "execution_count": 30,
   "metadata": {},
   "outputs": [],
   "source": [
    "options(repr.plot.width=20, repr.plot.height=10) \n",
    "setwd(\"C:\\\\Users\\\\oliva\\\\OneDrive\\\\Desktop\\\\DS\\\\Austral\\\\08 - Labo1\") #Aqui se debe poner la ruta de la PC local"
   ]
  },
  {
   "cell_type": "markdown",
   "metadata": {},
   "source": [
    "Supongamos que tengo dos vectores, uno con *numero_de_cliente*  y otro con la decision de si a ese registro le envio o no estímulo\n",
    "<br>\n",
    "Importante :  ambos vectores tienen la misma longitud"
   ]
  },
  {
   "cell_type": "code",
   "execution_count": 31,
   "metadata": {},
   "outputs": [],
   "source": [
    "vector_ids <-  c( 107, 228, 351, 468, 579)"
   ]
  },
  {
   "cell_type": "code",
   "execution_count": 32,
   "metadata": {},
   "outputs": [
    {
     "data": {
      "text/html": [
       "<ol class=list-inline>\n",
       "\t<li>107</li>\n",
       "\t<li>228</li>\n",
       "\t<li>351</li>\n",
       "\t<li>468</li>\n",
       "\t<li>579</li>\n",
       "</ol>\n"
      ],
      "text/latex": [
       "\\begin{enumerate*}\n",
       "\\item 107\n",
       "\\item 228\n",
       "\\item 351\n",
       "\\item 468\n",
       "\\item 579\n",
       "\\end{enumerate*}\n"
      ],
      "text/markdown": [
       "1. 107\n",
       "2. 228\n",
       "3. 351\n",
       "4. 468\n",
       "5. 579\n",
       "\n",
       "\n"
      ],
      "text/plain": [
       "[1] 107 228 351 468 579"
      ]
     },
     "metadata": {},
     "output_type": "display_data"
    }
   ],
   "source": [
    "vector_ids"
   ]
  },
  {
   "cell_type": "code",
   "execution_count": 33,
   "metadata": {},
   "outputs": [],
   "source": [
    "vector_enviar  <-   c( 0, 1, 1, 0, 1 )"
   ]
  },
  {
   "cell_type": "code",
   "execution_count": 34,
   "metadata": {},
   "outputs": [
    {
     "data": {
      "text/html": [
       "<ol class=list-inline>\n",
       "\t<li>0</li>\n",
       "\t<li>1</li>\n",
       "\t<li>1</li>\n",
       "\t<li>0</li>\n",
       "\t<li>1</li>\n",
       "</ol>\n"
      ],
      "text/latex": [
       "\\begin{enumerate*}\n",
       "\\item 0\n",
       "\\item 1\n",
       "\\item 1\n",
       "\\item 0\n",
       "\\item 1\n",
       "\\end{enumerate*}\n"
      ],
      "text/markdown": [
       "1. 0\n",
       "2. 1\n",
       "3. 1\n",
       "4. 0\n",
       "5. 1\n",
       "\n",
       "\n"
      ],
      "text/plain": [
       "[1] 0 1 1 0 1"
      ]
     },
     "metadata": {},
     "output_type": "display_data"
    }
   ],
   "source": [
    "vector_enviar"
   ]
  },
  {
   "cell_type": "markdown",
   "metadata": {},
   "source": [
    "Finalmente creo un dataset a partir de las dos columnas:\n",
    "<br>\n",
    "A la primer columna la voy a llamar  \"numero_de_cliente\"\n",
    "\n",
    "<bv>\n",
    "A la segunda columna la voy a llamar  \"Predicted\""
   ]
  },
  {
   "cell_type": "markdown",
   "metadata": {},
   "source": [
    "En el lenguaje R, un dataframe o data.table es una lista de columnas. Es una lista y no un vector, porque los vectores necesitan que todos los valores sean del mismo tipo de datos, pero un dataset puede tener columnas que sean vectores de numeros, vectores de cadenas de caracters (string). \n",
    "\n",
    "En R,  existe el tipo  **list** , para meter en  *una bolsa de gatos* objetos de distinto tipo"
   ]
  },
  {
   "cell_type": "code",
   "execution_count": 35,
   "metadata": {},
   "outputs": [],
   "source": [
    "tabla_final <- as.data.table(list(\"numero_de_cliente\"= vector_ids,\n",
    "                                     \"Predicted\"=         vector_enviar))"
   ]
  },
  {
   "cell_type": "markdown",
   "metadata": {},
   "source": [
    "veo como qyuedó la nueva data.table"
   ]
  },
  {
   "cell_type": "code",
   "execution_count": 36,
   "metadata": {},
   "outputs": [
    {
     "data": {
      "text/html": [
       "<table>\n",
       "<thead><tr><th scope=col>numero_de_cliente</th><th scope=col>Predicted</th></tr></thead>\n",
       "<tbody>\n",
       "\t<tr><td>107</td><td>0  </td></tr>\n",
       "\t<tr><td>228</td><td>1  </td></tr>\n",
       "\t<tr><td>351</td><td>1  </td></tr>\n",
       "\t<tr><td>468</td><td>0  </td></tr>\n",
       "\t<tr><td>579</td><td>1  </td></tr>\n",
       "</tbody>\n",
       "</table>\n"
      ],
      "text/latex": [
       "\\begin{tabular}{r|ll}\n",
       " numero\\_de\\_cliente & Predicted\\\\\n",
       "\\hline\n",
       "\t 107 & 0  \\\\\n",
       "\t 228 & 1  \\\\\n",
       "\t 351 & 1  \\\\\n",
       "\t 468 & 0  \\\\\n",
       "\t 579 & 1  \\\\\n",
       "\\end{tabular}\n"
      ],
      "text/markdown": [
       "\n",
       "| numero_de_cliente | Predicted |\n",
       "|---|---|\n",
       "| 107 | 0   |\n",
       "| 228 | 1   |\n",
       "| 351 | 1   |\n",
       "| 468 | 0   |\n",
       "| 579 | 1   |\n",
       "\n"
      ],
      "text/plain": [
       "  numero_de_cliente Predicted\n",
       "1 107               0        \n",
       "2 228               1        \n",
       "3 351               1        \n",
       "4 468               0        \n",
       "5 579               1        "
      ]
     },
     "metadata": {},
     "output_type": "display_data"
    }
   ],
   "source": [
    "tabla_final"
   ]
  },
  {
   "cell_type": "markdown",
   "metadata": {},
   "source": [
    "Finalmente,  grabo ese archivo con la instruccion  **fwrite**  que pertenece a la libreria  **data.table**"
   ]
  },
  {
   "cell_type": "markdown",
   "metadata": {},
   "source": [
    "Cuando utilizamos la instruccion **fread** para leer una data.table , ella tiene la inteligencia de darse cuenta cual es el separador de campos, pero para grabar, necesitamos nosotros especificarle cual queremos que sea el separador de campos"
   ]
  },
  {
   "cell_type": "code",
   "execution_count": 38,
   "metadata": {},
   "outputs": [],
   "source": [
    "#genero el archivo para Kaggle\n",
    "#creo la carpeta donde va el experimento\n",
    "dir.create( \"./labo/exp/ZH2015/\", showWarnings = FALSE )\n",
    "\n",
    "fwrite( tabla_final,\n",
    "       file= \"./labo/exp/ZH2015/entrega_de_juguete.csv\",\n",
    "        sep= \",\")"
   ]
  },
  {
   "cell_type": "markdown",
   "metadata": {},
   "source": [
    "Revisar ahora que hay en la carpeta **/labo/exp/ZH2015/** , editar el archvo  entrega_de juguete.txt\n",
    "<br>\n",
    "Este archivo de juguete dará error si se sube a Kaggle, fue solo de ejemplo"
   ]
  }
 ],
 "metadata": {
  "kernelspec": {
   "display_name": "R",
   "language": "R",
   "name": "ir"
  },
  "language_info": {
   "codemirror_mode": "r",
   "file_extension": ".r",
   "mimetype": "text/x-r-source",
   "name": "R",
   "pygments_lexer": "r",
   "version": "3.6.1"
  }
 },
 "nbformat": 4,
 "nbformat_minor": 4
}
